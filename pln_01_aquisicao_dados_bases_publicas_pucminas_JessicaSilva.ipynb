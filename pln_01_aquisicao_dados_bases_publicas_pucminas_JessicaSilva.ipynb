{
  "nbformat": 4,
  "nbformat_minor": 0,
  "metadata": {
    "colab": {
      "provenance": [],
      "include_colab_link": true
    },
    "kernelspec": {
      "name": "python3",
      "display_name": "Python 3"
    },
    "language_info": {
      "name": "python"
    }
  },
  "cells": [
    {
      "cell_type": "markdown",
      "metadata": {
        "id": "view-in-github",
        "colab_type": "text"
      },
      "source": [
        "<a href=\"https://colab.research.google.com/github/jessicasilvacodes/pln-pucminas/blob/main/pln_01_aquisicao_dados_bases_publicas_pucminas_JessicaSilva.ipynb\" target=\"_parent\"><img src=\"https://colab.research.google.com/assets/colab-badge.svg\" alt=\"Open In Colab\"/></a>"
      ]
    },
    {
      "cell_type": "markdown",
      "source": [
        "# **Aquisição de dados de bases públicas**"
      ],
      "metadata": {
        "id": "R3tUTgb_kpwv"
      }
    },
    {
      "cell_type": "code",
      "source": [
        "# Instalação dos pacotes necessários.\n",
        "!pip install requests kaggle"
      ],
      "metadata": {
        "id": "NB3Mmh26EKbn",
        "colab": {
          "base_uri": "https://localhost:8080/"
        },
        "outputId": "7954a8c8-6869-4359-ce8e-0eaa47e82462"
      },
      "execution_count": 3,
      "outputs": [
        {
          "output_type": "stream",
          "name": "stdout",
          "text": [
            "Requirement already satisfied: requests in /usr/local/lib/python3.11/dist-packages (2.32.3)\n",
            "Requirement already satisfied: kaggle in /usr/local/lib/python3.11/dist-packages (1.7.4.5)\n",
            "Requirement already satisfied: charset-normalizer<4,>=2 in /usr/local/lib/python3.11/dist-packages (from requests) (3.4.2)\n",
            "Requirement already satisfied: idna<4,>=2.5 in /usr/local/lib/python3.11/dist-packages (from requests) (3.10)\n",
            "Requirement already satisfied: urllib3<3,>=1.21.1 in /usr/local/lib/python3.11/dist-packages (from requests) (2.5.0)\n",
            "Requirement already satisfied: certifi>=2017.4.17 in /usr/local/lib/python3.11/dist-packages (from requests) (2025.7.14)\n",
            "Requirement already satisfied: bleach in /usr/local/lib/python3.11/dist-packages (from kaggle) (6.2.0)\n",
            "Requirement already satisfied: protobuf in /usr/local/lib/python3.11/dist-packages (from kaggle) (5.29.5)\n",
            "Requirement already satisfied: python-dateutil>=2.5.3 in /usr/local/lib/python3.11/dist-packages (from kaggle) (2.9.0.post0)\n",
            "Requirement already satisfied: python-slugify in /usr/local/lib/python3.11/dist-packages (from kaggle) (8.0.4)\n",
            "Requirement already satisfied: setuptools>=21.0.0 in /usr/local/lib/python3.11/dist-packages (from kaggle) (75.2.0)\n",
            "Requirement already satisfied: six>=1.10 in /usr/local/lib/python3.11/dist-packages (from kaggle) (1.17.0)\n",
            "Requirement already satisfied: text-unidecode in /usr/local/lib/python3.11/dist-packages (from kaggle) (1.3)\n",
            "Requirement already satisfied: tqdm in /usr/local/lib/python3.11/dist-packages (from kaggle) (4.67.1)\n",
            "Requirement already satisfied: webencodings in /usr/local/lib/python3.11/dist-packages (from kaggle) (0.5.1)\n"
          ]
        }
      ]
    },
    {
      "cell_type": "code",
      "source": [
        "# Importação de pacotes básicos para a execução deste notebook.\n",
        "import os\n",
        "import tarfile\n",
        "\n",
        "import requests\n",
        "print(\"Pacotes importados com sucesso.\")"
      ],
      "metadata": {
        "id": "8ueIJQz8n-h6",
        "colab": {
          "base_uri": "https://localhost:8080/"
        },
        "outputId": "e6bea510-b27b-4a36-96da-4713e9704f8d"
      },
      "execution_count": 4,
      "outputs": [
        {
          "output_type": "stream",
          "name": "stdout",
          "text": [
            "Pacotes importados com sucesso.\n"
          ]
        }
      ]
    },
    {
      "cell_type": "code",
      "source": [
        "# Define o diretório local para armazenar as bases de dados públicas coletadas.\n",
        "corpora_caminho = \"corpora\"\n",
        "\n",
        "# Verifica se o diretório especificado já existe no ambiente do Colab.\n",
        "if not os.path.exists(corpora_caminho):\n",
        "  # Caso o diretório não exista, cria um novo diretório com o nome 'corpora'.\n",
        "  # Isso é útil para organizar os arquivos de dados baixados ou gerados.\n",
        "  os.mkdir(corpora_caminho)\n",
        "\n",
        "print(f\"Diretório '{corpora_caminho}' criado com sucesso.\")"
      ],
      "metadata": {
        "id": "Ld0Thaj9nqzn"
      },
      "execution_count": null,
      "outputs": []
    },
    {
      "cell_type": "markdown",
      "source": [
        "## Bases de dados públicas: 01"
      ],
      "metadata": {
        "id": "pzFkGfrRd65P"
      }
    },
    {
      "cell_type": "markdown",
      "source": [
        "### Avaliação de produtos das americanas.com"
      ],
      "metadata": {
        "id": "q6aSu0KT4paP"
      }
    },
    {
      "cell_type": "markdown",
      "source": [
        "O B2W-Reviews01 representa uma rica coleção de avaliações de produtos disponibilizadas pela Americanas.com. Este conjunto aberto abrange mais de 130 mil opiniões de usuários do e-commerce, registradas de janeiro a maio de 2018. Além das valiosas percepções sobre os produtos, o B2W-Reviews01 destaca-se por oferecer detalhes sobre os consumidores que as escreveram, englobando informações como gênero, faixa etária e localização, tornando-o um recurso inestimável para análises de comportamento de compra e tendências de mercado."
      ],
      "metadata": {
        "id": "c0tgNZXdnG07"
      }
    },
    {
      "cell_type": "code",
      "execution_count": 6,
      "metadata": {
        "id": "mVXqB01uDacX"
      },
      "outputs": [],
      "source": [
        "# Define a URL da base pública armazenada no Github.\n",
        "url = \"https://raw.githubusercontent.com/americanas-tech/b2w-reviews01/main/B2W-Reviews01.csv\""
      ]
    },
    {
      "cell_type": "code",
      "source": [
        "# Configuração do arquivo para armazenamento da base de dados.\n",
        "americanas_arquivo = \"americanas-comentarios.csv\"\n",
        "\n",
        "# O método os.path.join cria o caminho completo para o arquivo, combinando\n",
        "# 'corpora_caminho' com o nome do arquivo 'b2w_arquivo'.\n",
        "americanas_caminho = os.path.join(corpora_caminho, americanas_arquivo)\n",
        "\n",
        "# Define o formato do arquivo. Necessário para arquivos textos\n",
        "# armazenados no raw.githubusercontent.com.\n",
        "parametros = {\"downloadformat\": \"csv\"}\n",
        "\n",
        "# Executa o download do arquivo especificado na URL com os parâmetros\n",
        "# especificados\n",
        "resposta = requests.get(url, params=parametros)\n",
        "if resposta.status_code == 200:\n",
        "  # Se o status for igual a 200 (sucesso), grava o arquivo no caminho\n",
        "  # especificado\n",
        "  with open(americanas_caminho, \"wb\") as f:\n",
        "    f.write(resposta.content)\n",
        "  print(f\"Download do {americanas_arquivo} foi concluído com sucesso!\")\n",
        "else:\n",
        "   print(f\"Falha no download do arquivo {americanas_arquivo}:\", resposta.status_code)"
      ],
      "metadata": {
        "id": "woasdVNlm_gU",
        "colab": {
          "base_uri": "https://localhost:8080/"
        },
        "outputId": "bdc93e92-aa84-4c70-ec00-3639c6df9c2f"
      },
      "execution_count": 7,
      "outputs": [
        {
          "output_type": "stream",
          "name": "stdout",
          "text": [
            "Download do americanas-comentarios.csv foi concluído com sucesso!\n"
          ]
        }
      ]
    },
    {
      "cell_type": "code",
      "source": [
        "# O comando head do linux mostra as cinco primeiras linhas do arquivo gravado.\n",
        "!head -n 10 {americanas_caminho}"
      ],
      "metadata": {
        "id": "57kIS4iOsTM1",
        "colab": {
          "base_uri": "https://localhost:8080/"
        },
        "outputId": "ec847b55-7dff-4e6e-96f0-431e7af81351"
      },
      "execution_count": 14,
      "outputs": [
        {
          "output_type": "stream",
          "name": "stdout",
          "text": [
            "submission_date,reviewer_id,product_id,product_name,product_brand,site_category_lv1,site_category_lv2,review_title,overall_rating,recommend_to_a_friend,review_text,reviewer_birth_year,reviewer_gender,reviewer_state\n",
            "2018-01-01 00:11:28,d0fb1ca69422530334178f5c8624aa7a99da47907c44de0243719b15d50623ce,132532965,\"Notebook Asus Vivobook Max X541NA-GO472T Intel Celeron Quad Core 4GB 500GB Tela LED 15,6\"\" Windows - 10 Branco\",,Informática,Notebook,Bom,4,Yes,Estou contente com a compra entrega rápida o único problema com as Americanas é se houver troca ou devolução do produto o consumidor tem problemas com espera.,1958.0,F,RJ\n",
            "2018-01-01 00:13:48,014d6dc5a10aed1ff1e6f349fb2b059a2d3de511c7538a9008da562ead5f5ecd,22562178,Copo Acrílico Com Canudo 500ml Rocie,,Utilidades Domésticas,\"Copos, Taças e Canecas\",\"Preço imbatível, ótima qualidade\",4,Yes,\"Por apenas R$1994.20,eu consegui comprar esse lindo copo de acrílico.\",1996.0,M,SC\n",
            "2018-01-01 00:26:02,44f2c8edd93471926fff601274b8b2b5c4824e386ae4f210329b9b71890277fd,113022329,Panela de Pressão Elétrica Philips Walita Daily 5L com Timer,philips walita,Eletroportáteis,Panela Elétrica,ATENDE TODAS AS EXPECTATIVA.,4,Yes,\"SUPERA EM AGILIDADE E PRATICIDADE OUTRAS PANELAS ELÉTRICAS.  COSTUMO USAR OUTRA PANELA PARA COZIMENTO DE ARROZ (JAPONESA), MAS LEVA MUITO TEMPO,  +/- 50 MINUTOS.  NESSA PANELA  É MUITO MAIS RÁPIDO, EXATAMENTE 6 MINUTOS.    EU RECOMENDO.\",1984.0,M,SP\n",
            "2018-01-01 00:35:54,ce741665c1764ab2d77539e18d0e4f66dde6213c9f0863f165ffedb1e8147984,113851581,Betoneira Columbus - Roma Brinquedos,roma jensen,Brinquedos,Veículos de Brinquedo,presente mais que desejado,4,Yes,MEU FILHO AMOU! PARECE DE VERDADE COM TANTOS DETALHES QUE TÊM!,1985.0,F,SP\n",
            "2018-01-01 01:00:28,7d7b6b18dda804a897359276cef0ca252f9932bf4b5c8e72bce7e88850efa0fc,131788803,\"Smart TV LED 43\"\" LG 43UJ6525 Ultra HD 4K com Conversor Digital 4 HDMI 2 USB WebOS 3.5 Painel Ips HDR e Magic Mobile Connection\",lg,TV e Home Theater,TV,\"Sem duvidas, excelente\",5,Yes,\"A entrega foi no prazo, as americanas estão de parabéns. A smart tv é muito boa, a navegação na internete e pelos aplicativos e excelente, não trava, sem falar da imagem que é de surpreender. recomendo.\",1994.0,M,MG\n",
            "2018-01-01 01:27:23,28b1844e1cd24dd2288b7cafb052a0b46aed53ab28e1c11632e3a2297a64aad8,22562178,Copo Acrílico Com Canudo 500ml Rocie,,Utilidades Domésticas,\"Copos, Taças e Canecas\",Produto imperdível,5,Yes,\"Excelente produto, por fora em material acrílico super resistente e por dentro em adamantio, faz milagre com qualquer bebida. Sugiro aproveitarem a promoção antes que acabe.\",1979.0,M,PA\n",
            "2018-01-01 01:54:38,48907a04d70947344017b351e8fc232bfc80dae2c33ac2e1524db127231ac542,22562178,Copo Acrílico Com Canudo 500ml Rocie,,Utilidades Domésticas,\"Copos, Taças e Canecas\",ótimo,5,Yes,\"produto mto bom, com essa garrafinha vc pode até servir água pro megazord. To pensando em vender minha tv pra comprar 1 garrafa dessa. RECOMENDO\",,,\n",
            "2018-01-01 01:58:17,e039cbff059effe12756772b358af4323c2157e9561da88dbdbfb37181179172,132444092,\"Smartphone Motorola Moto G 5S Dual Chip Android 7.1.1 Nougat Tela 5.2\"\" Snapdragon 430 32GB 4G Câmera 16MP - Platinum\",,Celulares e Smartphones,Smartphone,Gostei bastante do produto,4,Yes,Produto excelente qualidade boa câmera desenvolvimento do Android com rapidez,1987.0,M,GO\n",
            "2018-01-01 02:02:13,a0fd1ad35b08d3b764ad6f884ef7183bf29fc7ebfcae65964d7e9c200e3c9335,122776350,Ventilador de Teto Ventisol Fenix Premium Branco 3 velocidades com Controle Remoto,ventisol,Casa e Construção,Climatização,Gostei do produto,5,Yes,O barulho e minimo e o vento é bem forte na velocidade 2,1987.0,M,SP\n"
          ]
        }
      ]
    },
    {
      "cell_type": "markdown",
      "source": [
        "## Bases de dados públicas: 02"
      ],
      "metadata": {
        "id": "bvi46yz2ovSj"
      }
    },
    {
      "cell_type": "markdown",
      "source": [
        "### Revista Fapesp\n",
        "\n",
        "Este conjunto de dados inclui coleções em duas línguas: português para inglês e português para espanhol, provenientes das edições digitais da renomada revista científica brasileira REVISTA PESQUISA FAPESP. O que chama atenção é a forma de armazenamento dessas informações: um arquivo .tar.gz. Esse método de compactação é bastante popular em sistemas operacionais Linux, conhecido por sua eficiência na redução de tamanho de arquivos, mantendo a integridade dos dados.\n"
      ],
      "metadata": {
        "id": "GESEMBtz2LOD"
      }
    },
    {
      "cell_type": "markdown",
      "source": [],
      "metadata": {
        "id": "doC1hEFsUrgs"
      }
    },
    {
      "cell_type": "code",
      "source": [
        "# Define a URL da base de dados pública hospedada no GitHub, apontando para o\n",
        "# arquivo 'fapesp-corpora.tar.gz' disponível no repositório do NILC.\n",
        "url = \"http://www.nilc.icmc.usp.br/nilc/tools/fapesp-corpora.tar.gz\""
      ],
      "metadata": {
        "id": "53XQJi7SJtp2"
      },
      "execution_count": 9,
      "outputs": []
    },
    {
      "cell_type": "code",
      "source": [
        "# Define o nome do arquivo para a base de dados da FAPESP e o caminho completo\n",
        "# onde o arquivo será salvo.\n",
        "fapesp_arquivo = \"fapesp-corpora.tar.gz\"\n",
        "fapesp_caminho = os.path.join(corpora_caminho, fapesp_arquivo)\n",
        "\n",
        "# Inicia o processo de download do arquivo da base de dados da FAPESP.\n",
        "# A requisição GET é feita para a URL fornecida, com o parâmetro 'stream=True'\n",
        "# para permitir o download de grandes arquivos de forma eficiente.\n",
        "resposta = requests.get(url, stream=True)\n",
        "\n",
        "# Verifica se a requisição foi bem-sucedida (código de status HTTP 200).\n",
        "if resposta.status_code == 200:\n",
        "  # Abre o arquivo no caminho especificado em modo de escrita binária ('wb')\n",
        "  # para salvar os dados baixados.\n",
        "  with open(fapesp_caminho, \"wb\") as f:\n",
        "      for fragmento in resposta.raw.stream(2048):\n",
        "            f.write(fragmento)\n",
        "  print('Download concluído com sucesso!')\n",
        "else:\n",
        "  print('Falha no download:', resposta.status_code)"
      ],
      "metadata": {
        "id": "tuI6JsiqWZQj",
        "colab": {
          "base_uri": "https://localhost:8080/"
        },
        "outputId": "de45d8ca-9b25-4ca1-dfd2-36226e15ea6e"
      },
      "execution_count": 10,
      "outputs": [
        {
          "output_type": "stream",
          "name": "stdout",
          "text": [
            "Download concluído com sucesso!\n"
          ]
        }
      ]
    },
    {
      "cell_type": "code",
      "source": [
        "# Abre o arquivo tar.gz especificado pelo caminho 'fapesp_caminho' no modo de\n",
        "# leitura.\n",
        "with tarfile.open(fapesp_caminho, \"r:gz\") as tar:\n",
        "  # Extrai todo o conteúdo do arquivo tar.gz para o diretório especificado\n",
        "  # em 'corpora_path'.\n",
        "  tar.extractall(path=corpora_caminho)\n",
        "\n",
        "print(f\"Arquivo {fapesp_caminho} descompactado com sucesso!\")"
      ],
      "metadata": {
        "id": "vYa0uaiDX07m",
        "colab": {
          "base_uri": "https://localhost:8080/"
        },
        "outputId": "7505bdaa-c750-423e-bbd7-a0abccd4e792"
      },
      "execution_count": 11,
      "outputs": [
        {
          "output_type": "stream",
          "name": "stdout",
          "text": [
            "Arquivo corpora/fapesp-corpora.tar.gz descompactado com sucesso!\n"
          ]
        }
      ]
    },
    {
      "cell_type": "code",
      "source": [
        "# Divide o nome do arquivo \"fapesp-corpora.tar.gz\" pelo ponto e pega a primeira parte\n",
        "fapesp_dir = fapesp_arquivo.split(\".\")[0]\n",
        "fapesp_dir_caminho = os.path.join(corpora_caminho, fapesp_dir)\n",
        "\n",
        "# O comando 'ls' do shell lista o conteúdo do diretório apontado\n",
        "# por 'fapesp_caminho'.\n",
        "!ls {fapesp_dir_caminho}"
      ],
      "metadata": {
        "id": "SeJ4dT34kpcM",
        "colab": {
          "base_uri": "https://localhost:8080/"
        },
        "outputId": "70c5fce9-44fb-4b7f-a7d2-faeb53e7752b"
      },
      "execution_count": 15,
      "outputs": [
        {
          "output_type": "stream",
          "name": "stdout",
          "text": [
            "corpora  doc  README  README.html\n"
          ]
        }
      ]
    },
    {
      "cell_type": "markdown",
      "source": [
        "## Bases de dados públicas: 03"
      ],
      "metadata": {
        "id": "nqC7FBpTpP78"
      }
    },
    {
      "cell_type": "markdown",
      "source": [
        "### Kaggle\n",
        "\n",
        "O Kaggle é uma plataforma online para competições de ciência de dados e aprendizado de máquina. Atualmente, essa plataforma disponibiliza mais de 601 conjuntos de dados relacionados ao processamento de linguagem natural. A maneira mais fácil de baixar essas bases é usando a sua API. Primeiro, é preciso criar um arquivo JSON com o token de acesso à API, seguindo as instruções neste [Link](https://scribehow.com/embed-preview/Create_a_New_Token_on_Kaggle__E160LnfsTU-n7vmkbVxang)."
      ],
      "metadata": {
        "id": "wdzl-vgzbUMH"
      }
    },
    {
      "cell_type": "code",
      "source": [
        "# Importa a função de upload de arquivos do Google Colab\n",
        "from google.colab import files\n",
        "\n",
        "# Abre uma interface para você selecionar e fazer upload\n",
        "# de arquivos para o Colab\n",
        "files.upload()"
      ],
      "metadata": {
        "id": "OKhS_jUeeO0i",
        "colab": {
          "base_uri": "https://localhost:8080/",
          "height": 90
        },
        "outputId": "d1d80819-cde5-4e2e-b1f5-3550aaf87041"
      },
      "execution_count": 16,
      "outputs": [
        {
          "output_type": "display_data",
          "data": {
            "text/plain": [
              "<IPython.core.display.HTML object>"
            ],
            "text/html": [
              "\n",
              "     <input type=\"file\" id=\"files-b3a6afb3-981c-45f3-86ce-fc9f85bf904d\" name=\"files[]\" multiple disabled\n",
              "        style=\"border:none\" />\n",
              "     <output id=\"result-b3a6afb3-981c-45f3-86ce-fc9f85bf904d\">\n",
              "      Upload widget is only available when the cell has been executed in the\n",
              "      current browser session. Please rerun this cell to enable.\n",
              "      </output>\n",
              "      <script>// Copyright 2017 Google LLC\n",
              "//\n",
              "// Licensed under the Apache License, Version 2.0 (the \"License\");\n",
              "// you may not use this file except in compliance with the License.\n",
              "// You may obtain a copy of the License at\n",
              "//\n",
              "//      http://www.apache.org/licenses/LICENSE-2.0\n",
              "//\n",
              "// Unless required by applicable law or agreed to in writing, software\n",
              "// distributed under the License is distributed on an \"AS IS\" BASIS,\n",
              "// WITHOUT WARRANTIES OR CONDITIONS OF ANY KIND, either express or implied.\n",
              "// See the License for the specific language governing permissions and\n",
              "// limitations under the License.\n",
              "\n",
              "/**\n",
              " * @fileoverview Helpers for google.colab Python module.\n",
              " */\n",
              "(function(scope) {\n",
              "function span(text, styleAttributes = {}) {\n",
              "  const element = document.createElement('span');\n",
              "  element.textContent = text;\n",
              "  for (const key of Object.keys(styleAttributes)) {\n",
              "    element.style[key] = styleAttributes[key];\n",
              "  }\n",
              "  return element;\n",
              "}\n",
              "\n",
              "// Max number of bytes which will be uploaded at a time.\n",
              "const MAX_PAYLOAD_SIZE = 100 * 1024;\n",
              "\n",
              "function _uploadFiles(inputId, outputId) {\n",
              "  const steps = uploadFilesStep(inputId, outputId);\n",
              "  const outputElement = document.getElementById(outputId);\n",
              "  // Cache steps on the outputElement to make it available for the next call\n",
              "  // to uploadFilesContinue from Python.\n",
              "  outputElement.steps = steps;\n",
              "\n",
              "  return _uploadFilesContinue(outputId);\n",
              "}\n",
              "\n",
              "// This is roughly an async generator (not supported in the browser yet),\n",
              "// where there are multiple asynchronous steps and the Python side is going\n",
              "// to poll for completion of each step.\n",
              "// This uses a Promise to block the python side on completion of each step,\n",
              "// then passes the result of the previous step as the input to the next step.\n",
              "function _uploadFilesContinue(outputId) {\n",
              "  const outputElement = document.getElementById(outputId);\n",
              "  const steps = outputElement.steps;\n",
              "\n",
              "  const next = steps.next(outputElement.lastPromiseValue);\n",
              "  return Promise.resolve(next.value.promise).then((value) => {\n",
              "    // Cache the last promise value to make it available to the next\n",
              "    // step of the generator.\n",
              "    outputElement.lastPromiseValue = value;\n",
              "    return next.value.response;\n",
              "  });\n",
              "}\n",
              "\n",
              "/**\n",
              " * Generator function which is called between each async step of the upload\n",
              " * process.\n",
              " * @param {string} inputId Element ID of the input file picker element.\n",
              " * @param {string} outputId Element ID of the output display.\n",
              " * @return {!Iterable<!Object>} Iterable of next steps.\n",
              " */\n",
              "function* uploadFilesStep(inputId, outputId) {\n",
              "  const inputElement = document.getElementById(inputId);\n",
              "  inputElement.disabled = false;\n",
              "\n",
              "  const outputElement = document.getElementById(outputId);\n",
              "  outputElement.innerHTML = '';\n",
              "\n",
              "  const pickedPromise = new Promise((resolve) => {\n",
              "    inputElement.addEventListener('change', (e) => {\n",
              "      resolve(e.target.files);\n",
              "    });\n",
              "  });\n",
              "\n",
              "  const cancel = document.createElement('button');\n",
              "  inputElement.parentElement.appendChild(cancel);\n",
              "  cancel.textContent = 'Cancel upload';\n",
              "  const cancelPromise = new Promise((resolve) => {\n",
              "    cancel.onclick = () => {\n",
              "      resolve(null);\n",
              "    };\n",
              "  });\n",
              "\n",
              "  // Wait for the user to pick the files.\n",
              "  const files = yield {\n",
              "    promise: Promise.race([pickedPromise, cancelPromise]),\n",
              "    response: {\n",
              "      action: 'starting',\n",
              "    }\n",
              "  };\n",
              "\n",
              "  cancel.remove();\n",
              "\n",
              "  // Disable the input element since further picks are not allowed.\n",
              "  inputElement.disabled = true;\n",
              "\n",
              "  if (!files) {\n",
              "    return {\n",
              "      response: {\n",
              "        action: 'complete',\n",
              "      }\n",
              "    };\n",
              "  }\n",
              "\n",
              "  for (const file of files) {\n",
              "    const li = document.createElement('li');\n",
              "    li.append(span(file.name, {fontWeight: 'bold'}));\n",
              "    li.append(span(\n",
              "        `(${file.type || 'n/a'}) - ${file.size} bytes, ` +\n",
              "        `last modified: ${\n",
              "            file.lastModifiedDate ? file.lastModifiedDate.toLocaleDateString() :\n",
              "                                    'n/a'} - `));\n",
              "    const percent = span('0% done');\n",
              "    li.appendChild(percent);\n",
              "\n",
              "    outputElement.appendChild(li);\n",
              "\n",
              "    const fileDataPromise = new Promise((resolve) => {\n",
              "      const reader = new FileReader();\n",
              "      reader.onload = (e) => {\n",
              "        resolve(e.target.result);\n",
              "      };\n",
              "      reader.readAsArrayBuffer(file);\n",
              "    });\n",
              "    // Wait for the data to be ready.\n",
              "    let fileData = yield {\n",
              "      promise: fileDataPromise,\n",
              "      response: {\n",
              "        action: 'continue',\n",
              "      }\n",
              "    };\n",
              "\n",
              "    // Use a chunked sending to avoid message size limits. See b/62115660.\n",
              "    let position = 0;\n",
              "    do {\n",
              "      const length = Math.min(fileData.byteLength - position, MAX_PAYLOAD_SIZE);\n",
              "      const chunk = new Uint8Array(fileData, position, length);\n",
              "      position += length;\n",
              "\n",
              "      const base64 = btoa(String.fromCharCode.apply(null, chunk));\n",
              "      yield {\n",
              "        response: {\n",
              "          action: 'append',\n",
              "          file: file.name,\n",
              "          data: base64,\n",
              "        },\n",
              "      };\n",
              "\n",
              "      let percentDone = fileData.byteLength === 0 ?\n",
              "          100 :\n",
              "          Math.round((position / fileData.byteLength) * 100);\n",
              "      percent.textContent = `${percentDone}% done`;\n",
              "\n",
              "    } while (position < fileData.byteLength);\n",
              "  }\n",
              "\n",
              "  // All done.\n",
              "  yield {\n",
              "    response: {\n",
              "      action: 'complete',\n",
              "    }\n",
              "  };\n",
              "}\n",
              "\n",
              "scope.google = scope.google || {};\n",
              "scope.google.colab = scope.google.colab || {};\n",
              "scope.google.colab._files = {\n",
              "  _uploadFiles,\n",
              "  _uploadFilesContinue,\n",
              "};\n",
              "})(self);\n",
              "</script> "
            ]
          },
          "metadata": {}
        },
        {
          "output_type": "stream",
          "name": "stdout",
          "text": [
            "Saving kaggle.json to kaggle.json\n"
          ]
        },
        {
          "output_type": "execute_result",
          "data": {
            "text/plain": [
              "{'kaggle.json': b'{\"username\":\"jessicasilvacodes\",\"key\":\"23568ac373815871986a9414a75f49d3\"}'}"
            ]
          },
          "metadata": {},
          "execution_count": 16
        }
      ]
    },
    {
      "cell_type": "code",
      "source": [
        "# Cria um novo diretório chamado '.kaggle' na pasta home do usuário atual\n",
        "!mkdir ~/.kaggle"
      ],
      "metadata": {
        "id": "wgDeXUTdfYI9"
      },
      "execution_count": 17,
      "outputs": []
    },
    {
      "cell_type": "code",
      "source": [
        "# Copia o arquivo 'kaggle.json' para o diretório '.kaggle'\n",
        "# Este arquivo contém sua chave de API do Kaggle, necessária para acessar os datasets\n",
        "!cp kaggle.json ~/.kaggle/\n",
        "\n",
        "# Define as permissões do arquivo 'kaggle.json' para leitura pelo usuário\n",
        "# É necessário para manter sua chave de API segura\n",
        "!chmod 600 ~/.kaggle/kaggle.json"
      ],
      "metadata": {
        "id": "5OTiilVcfwNG"
      },
      "execution_count": 18,
      "outputs": []
    },
    {
      "cell_type": "code",
      "source": [
        "# Lista os datasets disponíveis no Kaggle que contêm a palavra 'commonlit'\n",
        "!kaggle datasets list -s commonlit"
      ],
      "metadata": {
        "id": "C6eMgM4wf9DY",
        "colab": {
          "base_uri": "https://localhost:8080/"
        },
        "outputId": "af97fddf-c1d8-41bb-d331-b45d16a216e8"
      },
      "execution_count": 19,
      "outputs": [
        {
          "output_type": "stream",
          "name": "stdout",
          "text": [
            "ref                                      title                              size  lastUpdated                 downloadCount  voteCount  usabilityRating  \n",
            "---------------------------------------  ---------------------------  ----------  --------------------------  -------------  ---------  ---------------  \n",
            "kononenko/commonlit-texts                CommonLit Texts                 6257961  2023-09-17 20:48:39.253000            422         32  0.7058824        \n",
            "takoihiraokazu/commonlit-ex107           commonlit-ex107              7434036314  2021-06-09 03:22:06.103000             23         11  0.4375           \n",
            "takoihiraokazu/commonlit-ex064           commonlit-ex064              2167457156  2021-06-03 05:29:12.187000             12         10  0.4375           \n",
            "takoihiraokazu/commonlit-ex182           commonlit-ex182              7529261744  2021-06-21 04:26:18.173000             22          8  0.4375           \n",
            "takoihiraokazu/commonlit-ex190           commonlit-ex190              6221568966  2021-06-23 00:43:25.060000             18          8  0.4375           \n",
            "maunish/clrp-roberta-base                clrp roberta base            3228393000  2021-06-29 09:07:26.197000            981         78  0.75             \n",
            "takoihiraokazu/commonlit-ex465           commonlit-ex465              2020885424  2021-07-31 05:31:09.803000             16         29  0.4375           \n",
            "rhtsingh/roberta-large-itptfit           CommonLit RoBERTa Large I    6597217748  2021-05-23 16:39:06.403000            228         27  0.375            \n",
            "takoihiraokazu/commonlit-ex507           commonlit-ex507              5562328049  2021-08-02 09:37:29.560000              9         25  0.4375           \n",
            "takoihiraokazu/commonlit-ex207           commonlit-ex207              2000225471  2021-06-25 07:30:00.580000             12          6  0.4375           \n",
            "douglaskgaraujo/commonlit-text-features  CommonLit Text Features         1262318  2021-06-22 01:19:50.420000             80         14  0.9705882        \n",
            "rhtsingh/commonlit-roberta-base-i        CommonLit RoBERTa Base I     2316795352  2021-05-28 12:53:42.043000            283         25  0.3125           \n",
            "takoihiraokazu/commonlit-ex072-2         commonlit-ex072-2            6476919506  2021-06-04 01:17:43.137000             24          9  0.4375           \n",
            "rhtsingh/commonlit-roberta-large-ii      CommonLit RoBERTa Large II   6597689297  2021-05-28 12:53:00.870000            176         22  0.3125           \n",
            "andretugan/commonlit-roberta-0467        CommonLit Roberta Model Set  2322955834  2021-06-30 15:03:46.703000            127         12  0.47058824       \n",
            "takoihiraokazu/commonlit-ex496           commonlit-ex496              2167458076  2021-07-31 13:20:43.067000             10         16  0.4375           \n",
            "andradaolteanu/commonlit-dataset         CommonLit Dataset            6227614645  2021-06-24 15:55:43.730000             30         11  0.5294118        \n",
            "takoihiraokazu/commonlit-ex272           commonlit-ex272              6663131786  2021-07-05 00:36:41.163000             10          5  0.4375           \n",
            "bhavesjain/commonlit-ess-prompts         commonlit-ess-prompts             14394  2023-10-10 07:41:20.823000             34          7  0.88235295       \n",
            "takoihiraokazu/commonlit-ex292           commonlit-ex292              2000185324  2021-07-06 23:01:05.300000             10          6  0.4375           \n"
          ]
        }
      ]
    },
    {
      "cell_type": "code",
      "source": [
        "# Exibe os arquivos disponíveis no dataset 'commonlit-texts' de 'kononenko'\n",
        "!kaggle datasets files kononenko/commonlit-texts"
      ],
      "metadata": {
        "id": "cbYDWeH_gh9d",
        "colab": {
          "base_uri": "https://localhost:8080/"
        },
        "outputId": "d480f17e-fa62-4df3-ba95-e53b98698fb4"
      },
      "execution_count": 20,
      "outputs": [
        {
          "output_type": "stream",
          "name": "stdout",
          "text": [
            "name                     size  creationDate                \n",
            "-------------------  --------  --------------------------  \n",
            "commonlit_texts.csv  17288614  2023-09-17 20:48:42.132000  \n"
          ]
        }
      ]
    },
    {
      "cell_type": "code",
      "source": [
        "# Baixa o dataset 'commonlit-texts' de 'kononenko' do Kaggle\n",
        "!kaggle datasets download kononenko/commonlit-texts"
      ],
      "metadata": {
        "id": "orJAucXqePxH",
        "colab": {
          "base_uri": "https://localhost:8080/"
        },
        "outputId": "5c340865-6500-420a-def2-06ca27f45fcd"
      },
      "execution_count": 21,
      "outputs": [
        {
          "output_type": "stream",
          "name": "stdout",
          "text": [
            "Dataset URL: https://www.kaggle.com/datasets/kononenko/commonlit-texts\n",
            "License(s): other\n",
            "Downloading commonlit-texts.zip to /content\n",
            "  0% 0.00/5.97M [00:00<?, ?B/s]\n",
            "100% 5.97M/5.97M [00:00<00:00, 720MB/s]\n"
          ]
        }
      ]
    },
    {
      "cell_type": "code",
      "source": [
        "# Extrai os arquivos do zip 'commonlit-texts.zip' para a pasta 'corpora'\n",
        "!unzip commonlit-texts.zip -d corpora"
      ],
      "metadata": {
        "id": "VurQl7SvjdMO",
        "colab": {
          "base_uri": "https://localhost:8080/"
        },
        "outputId": "7c36aca3-a625-4255-ff6e-af78459a8b5f"
      },
      "execution_count": 22,
      "outputs": [
        {
          "output_type": "stream",
          "name": "stdout",
          "text": [
            "Archive:  commonlit-texts.zip\n",
            "  inflating: corpora/commonlit_texts.csv  \n"
          ]
        }
      ]
    },
    {
      "cell_type": "code",
      "source": [
        "# Exibe as primeiras linhas do arquivo 'commonlit_texts.csv'\n",
        "!head -n5 corpora/commonlit_texts.csv"
      ],
      "metadata": {
        "id": "lWdkRvzFkEo8",
        "colab": {
          "base_uri": "https://localhost:8080/"
        },
        "outputId": "f51f05aa-e701-47f1-c1ba-0ef6212c409e"
      },
      "execution_count": 23,
      "outputs": [
        {
          "output_type": "stream",
          "name": "stdout",
          "text": [
            "title,author,description,grade,genre,lexile,path,is_prose,date,intro,excerpt,license,notes\n",
            "\"(love song, with two goldfish)\",Grace Chua,The speaker describes a love story between two goldfish in a fish bowl.,8,Poem,,/en/texts/love-song-with-two-goldfish,0,2003,\"Grace Chua is an award-winning journalist whose work usually deals with science and the environment. In this poem, Chua explores the love between two goldfish living in a fish bowl.\n",
            "As you read, take notes on the use of puns throughout the poem and their multiple meanings.\",\"[1]\n",
            "(He's a drifter,\n",
            "A “drifter” is a person who is continually moving from place to place.\n"
          ]
        }
      ]
    }
  ]
}