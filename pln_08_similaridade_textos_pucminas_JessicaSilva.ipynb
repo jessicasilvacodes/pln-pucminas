{
  "nbformat": 4,
  "nbformat_minor": 0,
  "metadata": {
    "kernelspec": {
      "display_name": "Python 3",
      "name": "python3"
    },
    "language_info": {
      "name": "python"
    },
    "colab": {
      "provenance": [],
      "include_colab_link": true
    }
  },
  "cells": [
    {
      "cell_type": "markdown",
      "metadata": {
        "id": "view-in-github",
        "colab_type": "text"
      },
      "source": [
        "<a href=\"https://colab.research.google.com/github/jessicasilvacodes/pln-pucminas/blob/main/pln_08_similaridade_textos_pucminas_JessicaSilva.ipynb\" target=\"_parent\"><img src=\"https://colab.research.google.com/assets/colab-badge.svg\" alt=\"Open In Colab\"/></a>"
      ]
    },
    {
      "cell_type": "markdown",
      "metadata": {
        "id": "7Oh3sCHZU2aY"
      },
      "source": [
        "# Similaridade de Textos\n",
        "A similaridade de textos indica o quão \"próximos\" dois textos estão em significado ou na forma da escrita.\n"
      ]
    },
    {
      "cell_type": "code",
      "source": [
        "# instalação dos pacotes necessários\n",
        "!pip install nltk\n",
        "!pip install unidecode\n",
        "!pip install scikit-learn"
      ],
      "metadata": {
        "id": "yD6LJExwkTvY",
        "outputId": "6f53d6f2-d1f0-4e0e-a1d2-87df316f841c",
        "colab": {
          "base_uri": "https://localhost:8080/"
        }
      },
      "execution_count": 15,
      "outputs": [
        {
          "output_type": "stream",
          "name": "stdout",
          "text": [
            "Requirement already satisfied: nltk in /usr/local/lib/python3.11/dist-packages (3.8.1)\n",
            "Requirement already satisfied: click in /usr/local/lib/python3.11/dist-packages (from nltk) (8.2.1)\n",
            "Requirement already satisfied: joblib in /usr/local/lib/python3.11/dist-packages (from nltk) (1.5.1)\n",
            "Requirement already satisfied: regex>=2021.8.3 in /usr/local/lib/python3.11/dist-packages (from nltk) (2024.11.6)\n",
            "Requirement already satisfied: tqdm in /usr/local/lib/python3.11/dist-packages (from nltk) (4.67.1)\n",
            "Requirement already satisfied: unidecode in /usr/local/lib/python3.11/dist-packages (1.3.8)\n",
            "Requirement already satisfied: scikit-learn in /usr/local/lib/python3.11/dist-packages (1.6.1)\n",
            "Requirement already satisfied: numpy>=1.19.5 in /usr/local/lib/python3.11/dist-packages (from scikit-learn) (2.0.2)\n",
            "Requirement already satisfied: scipy>=1.6.0 in /usr/local/lib/python3.11/dist-packages (from scikit-learn) (1.16.0)\n",
            "Requirement already satisfied: joblib>=1.2.0 in /usr/local/lib/python3.11/dist-packages (from scikit-learn) (1.5.1)\n",
            "Requirement already satisfied: threadpoolctl>=3.1.0 in /usr/local/lib/python3.11/dist-packages (from scikit-learn) (3.6.0)\n"
          ]
        }
      ]
    },
    {
      "cell_type": "code",
      "metadata": {
        "id": "VlypLoBCU2aZ",
        "outputId": "df0928c0-3b05-49b8-ef3a-fa1ee95c08c5",
        "colab": {
          "base_uri": "https://localhost:8080/"
        }
      },
      "source": [
        "# Importações da biblioteca padrão\n",
        "import datetime\n",
        "import math\n",
        "import re\n",
        "import string\n",
        "import sys\n",
        "import warnings\n",
        "\n",
        "# Importações de bibliotecas de terceiros\n",
        "import nltk\n",
        "\n",
        "from nltk.corpus import stopwords\n",
        "\n",
        "import sklearn\n",
        "from sklearn.feature_extraction.text import CountVectorizer\n",
        "\n",
        "from unidecode import unidecode\n",
        "\n",
        "# Downloads do NLTK\n",
        "nltk.download('punkt')\n",
        "nltk.download(\"stopwords\")\n",
        "\n",
        "# Configurações e comandos específicos (por exemplo, desativar avisos)\n",
        "warnings.filterwarnings('ignore')\n",
        "\n",
        "print(\"Pacotes importados com sucesso; notebook pronto para uso!\")"
      ],
      "execution_count": 16,
      "outputs": [
        {
          "output_type": "stream",
          "name": "stdout",
          "text": [
            "Pacotes importados com sucesso; notebook pronto para uso!\n"
          ]
        },
        {
          "output_type": "stream",
          "name": "stderr",
          "text": [
            "[nltk_data] Downloading package punkt to /root/nltk_data...\n",
            "[nltk_data]   Package punkt is already up-to-date!\n",
            "[nltk_data] Downloading package stopwords to /root/nltk_data...\n",
            "[nltk_data]   Package stopwords is already up-to-date!\n"
          ]
        }
      ]
    },
    {
      "cell_type": "code",
      "source": [
        "# Declara define funções utilitárias utilizadas no notebook.\n",
        "def formata_msg(nivel, msg):\n",
        "    \"\"\"\n",
        "    Formata uma mensagem de log incluindo o nível de severidade, timestamp\n",
        "    e a mensagem.\n",
        "\n",
        "    Parâmetros:\n",
        "    - nivel (str): Nível de severidade da mensagem (ex: 'INFO', 'ERROR', 'WARNING').\n",
        "    - msg (str): A mensagem de log propriamente dita.\n",
        "\n",
        "    Retorna:\n",
        "    - str: A mensagem de log formatada.\n",
        "    \"\"\"\n",
        "    timestamp = datetime.datetime.now().strftime('%Y-%m-%d')\n",
        "\n",
        "    return f\"[{nivel}] {timestamp} - {msg}\"\n",
        "\n",
        "def preprocessa_texto(texto):\n",
        "    \"\"\"\n",
        "    Preprocessa o texto fornecido realizando várias etapas de limpeza.\n",
        "\n",
        "    Etapas:\n",
        "    1. Tokeniza o texto.\n",
        "    2. Converte os tokens para minúsculos.\n",
        "    3. Remove stopwords em português.\n",
        "    4. Remove números dos tokens.\n",
        "    5. Exclui tokens que são pontuações.\n",
        "    6. Remove acentuações dos tokens.\n",
        "\n",
        "    Parâmetros:\n",
        "    texto (str): O texto a ser preprocessado.\n",
        "\n",
        "    Retorna:\n",
        "    list: Lista de tokens preprocessados.\n",
        "    \"\"\"\n",
        "\n",
        "    # Tokeniza o texto usando um padrão para capturar palavras e pontuações.\n",
        "    padrao = r\"\\w+(?:'\\w+)?|[^\\w\\s]\"\n",
        "    tokens_preprocessados = re.findall(padrao, texto)\n",
        "\n",
        "    # Converte os tokens para minúsculos para padronizar a capitalização.\n",
        "    tokens_preprocessados = [token.lower() for token in tokens_preprocessados]\n",
        "\n",
        "    # Remove stopwords para reduzir o conjunto de tokens a palavras significativas.\n",
        "    portugues_stops = stopwords.words('portuguese')\n",
        "    tokens_preprocessados = [token for token in tokens_preprocessados if token not in portugues_stops]\n",
        "\n",
        "    # Remove números, pois geralmente não contribuem para o significado do texto.\n",
        "    tokens_preprocessados = [re.sub(r'\\d+', '', token) for token in tokens_preprocessados if re.sub(r'\\d+', '', token)]\n",
        "\n",
        "    # Exclui tokens que são pontuações, pois raramente são úteis para análise de texto.\n",
        "    tokens_preprocessados = [token for token in tokens_preprocessados if token not in string.punctuation]\n",
        "\n",
        "    # Remove acentuações para padronizar os tokens.\n",
        "    tokens_preprocessados = [unidecode(token) for token in tokens_preprocessados]\n",
        "\n",
        "    return ' '.join(tokens_preprocessados)\n",
        "\n",
        "print(formata_msg(\"INFO\", \"Funções utilitárias prontas para utilização.\"))\n",
        "print(formata_msg(\"INFO\", f\"Versão do Python: {sys.version} \"))"
      ],
      "metadata": {
        "colab": {
          "base_uri": "https://localhost:8080/"
        },
        "id": "EW7hmVPuMNbq",
        "outputId": "aaf3cd76-141b-4578-d68f-4782793eeeeb"
      },
      "execution_count": 17,
      "outputs": [
        {
          "output_type": "stream",
          "name": "stdout",
          "text": [
            "[INFO] 2025-08-04 - Funções utilitárias prontas para utilização.\n",
            "[INFO] 2025-08-04 - Versão do Python: 3.11.13 (main, Jun  4 2025, 08:57:29) [GCC 11.4.0] \n"
          ]
        }
      ]
    },
    {
      "cell_type": "code",
      "source": [
        "texto_1 = preprocessa_texto(\"O gato comeu o rato\")\n",
        "texto_2 = preprocessa_texto(\"O rato comeu a comida do gato\")\n",
        "print(formata_msg(\"INFO\",f\"\\n{texto_1}\\n{texto_2}\"))"
      ],
      "metadata": {
        "id": "beUgOO5ASa_a",
        "outputId": "90010cd7-a8d5-47ea-cd31-d6b8865e58ae",
        "colab": {
          "base_uri": "https://localhost:8080/"
        }
      },
      "execution_count": 18,
      "outputs": [
        {
          "output_type": "stream",
          "name": "stdout",
          "text": [
            "[INFO] 2025-08-04 - \n",
            "gato comeu rato\n",
            "rato comeu comida gato\n"
          ]
        }
      ]
    },
    {
      "cell_type": "markdown",
      "source": [
        "# Similaridade de Jaccard"
      ],
      "metadata": {
        "id": "E9Dac1HnNR-6"
      }
    },
    {
      "cell_type": "code",
      "source": [
        "def similaridade_jaccard(a, b):\n",
        "  \"\"\"Calcula a similaridade de Jaccard entre duas listas.\n",
        "\n",
        "  A similaridade de Jaccard é uma medida usada para comparar a semelhança e\n",
        "  diversidade de conjuntos de amostras. O coeficiente de similaridade de\n",
        "  Jaccard é definido como o tamanho da interseção dividido pelo tamanho da\n",
        "  união das amostras.\n",
        "\n",
        "  Args:\n",
        "    a: Uma lista de elementos.\n",
        "    b: Outra lista de elementos.\n",
        "\n",
        "  Returns:\n",
        "    Um float representando a similaridade de Jaccard entre as duas listas, que\n",
        "    é o tamanho da interseção dos conjuntos dividido pelo tamanho da união dos\n",
        "    conjuntos.\n",
        "\n",
        "  Raises:\n",
        "    ZeroDivisionError: Se a união das listas resultar em um conjunto vazio, o\n",
        "    que levaria a uma divisão por zero.\n",
        "  \"\"\"\n",
        "  interseccao = len(set.intersection(*[set(a), set(b)]))\n",
        "  uniao = len(set.union(*[set(a), set(b)]))\n",
        "  return interseccao / uniao"
      ],
      "metadata": {
        "id": "NDUKC1AmFREq"
      },
      "execution_count": 19,
      "outputs": []
    },
    {
      "cell_type": "code",
      "source": [
        "corpus = [texto_1, texto_2]\n",
        "tokens = [texto.split(\" \") for texto in corpus]\n",
        "print(formata_msg(\"INFO\",f\"\\n{tokens}\"))"
      ],
      "metadata": {
        "id": "a6quydtFLqh0",
        "outputId": "a2d2395a-2d46-4dad-87de-76a94e613fc0",
        "colab": {
          "base_uri": "https://localhost:8080/"
        }
      },
      "execution_count": 20,
      "outputs": [
        {
          "output_type": "stream",
          "name": "stdout",
          "text": [
            "[INFO] 2025-08-04 - \n",
            "[['gato', 'comeu', 'rato'], ['rato', 'comeu', 'comida', 'gato']]\n"
          ]
        }
      ]
    },
    {
      "cell_type": "code",
      "source": [
        "similaridade = similaridade_jaccard(tokens[0], tokens[1])\n",
        "print(formata_msg(\"INFO\",f\"\\nSimilaridade de Jaccard entre os textos: {similaridade}\"))"
      ],
      "metadata": {
        "id": "zCo3r_oIMPUo",
        "outputId": "0c033508-9f47-4d74-a8bd-c85634c08d88",
        "colab": {
          "base_uri": "https://localhost:8080/"
        }
      },
      "execution_count": 21,
      "outputs": [
        {
          "output_type": "stream",
          "name": "stdout",
          "text": [
            "[INFO] 2025-08-04 - \n",
            "Similaridade de Jaccard entre os textos: 0.75\n"
          ]
        }
      ]
    },
    {
      "cell_type": "markdown",
      "source": [
        "# Similaridade Euclidiana"
      ],
      "metadata": {
        "id": "X01Sbm4YFVnt"
      }
    },
    {
      "cell_type": "code",
      "source": [
        "def similaridade_euclidiana(a, b):\n",
        "  \"\"\"Calcula a similaridade euclidiana entre dois vetores.\n",
        "\n",
        "  A similaridade euclidiana é determinada pela transformação da distância\n",
        "  euclidiana entre dois pontos (vetores) em uma medida de similaridade.\n",
        "  Esta transformação é realizada através da função exponencial, que mapeia a\n",
        "  distância para um valor entre 0 e 1, onde valores próximos a 1 indicam alta\n",
        "  similaridade e valores próximos a 0, baixa similaridade.\n",
        "\n",
        "  Args:\n",
        "    a: Uma lista ou vetor de valores numéricos.\n",
        "    b: Outra lista ou vetor de valores numéricos, com a mesma dimensão de `a`.\n",
        "\n",
        "  Returns:\n",
        "    Um float representando a similaridade euclidiana entre os vetores `a` e `b`.\n",
        "\n",
        "  Raises:\n",
        "    ValueError: Se os vetores `a` e `b` têm dimensões diferentes.\n",
        "  \"\"\"\n",
        "  if len(a) != len(b):\n",
        "    raise ValueError(\"Os vetores 'a' e 'b' devem ter a mesma dimensão.\")\n",
        "\n",
        "  distancia = math.sqrt(sum(math.pow(x - y, 2) for x, y in zip(a, b)))\n",
        "  return math.exp(-distancia)"
      ],
      "metadata": {
        "id": "xn6N1h5WEWWU"
      },
      "execution_count": 22,
      "outputs": []
    },
    {
      "cell_type": "code",
      "source": [
        "vetorizador = CountVectorizer()\n",
        "frequencias = vetorizador.fit_transform(corpus)\n",
        "print(formata_msg(\"INFO\",f\"Tokens:\\n{vetorizador.get_feature_names_out()}\\n\"))\n",
        "print(formata_msg(\"INFO\",f\"Frequências:\\n{frequencias.toarray()}\"))"
      ],
      "metadata": {
        "id": "zal20oIVE4vl",
        "outputId": "cbab0db7-9a49-4979-8d85-2e8a062a2615",
        "colab": {
          "base_uri": "https://localhost:8080/"
        }
      },
      "execution_count": 23,
      "outputs": [
        {
          "output_type": "stream",
          "name": "stdout",
          "text": [
            "[INFO] 2025-08-04 - Tokens:\n",
            "['comeu' 'comida' 'gato' 'rato']\n",
            "\n",
            "[INFO] 2025-08-04 - Frequências:\n",
            "[[1 0 1 1]\n",
            " [1 1 1 1]]\n"
          ]
        }
      ]
    },
    {
      "cell_type": "code",
      "source": [
        "similaridade = similaridade_euclidiana(frequencias.toarray()[0], frequencias.toarray()[1])\n",
        "print(formata_msg(\"INFO\",f\"\\nSimilaridade Euclidiana entre os textos: {similaridade}\"))"
      ],
      "metadata": {
        "id": "aJdwTa0paE3A",
        "outputId": "38da30d7-bc1e-40ab-9d10-d4b6bb640a32",
        "colab": {
          "base_uri": "https://localhost:8080/"
        }
      },
      "execution_count": 24,
      "outputs": [
        {
          "output_type": "stream",
          "name": "stdout",
          "text": [
            "[INFO] 2025-08-04 - \n",
            "Similaridade Euclidiana entre os textos: 0.36787944117144233\n"
          ]
        }
      ]
    },
    {
      "cell_type": "markdown",
      "metadata": {
        "id": "JhDqvmbOU2ap"
      },
      "source": [
        "# Similaridade de Cosseno\n"
      ]
    },
    {
      "cell_type": "code",
      "metadata": {
        "id": "g_a4wIfkU2aq"
      },
      "source": [
        "def norma_vetor(x):\n",
        "  \"\"\"Calcula a norma (ou magnitude) de um vetor.\n",
        "\n",
        "  A norma é calculada como a raiz quadrada da soma dos quadrados de cada\n",
        "  elemento do vetor. Esta função é comumente usada em operações de álgebra\n",
        "  linear e análise de vetores.\n",
        "\n",
        "  Args:\n",
        "    x: Uma lista de valores numéricos representando um vetor.\n",
        "\n",
        "  Returns:\n",
        "    Um float representando a norma do vetor, arredondado para 3 casas decimais.\n",
        "  \"\"\"\n",
        "  return round(math.sqrt(sum(a * a for a in x)), 3)\n",
        "\n",
        "def similaridade_cosseno(a, b):\n",
        "  \"\"\"Calcula a similaridade de cosseno entre dois vetores.\n",
        "\n",
        "  A similaridade de cosseno é uma medida que calcula o cosseno do ângulo entre\n",
        "  dois vetores no espaço multidimensional, sendo usada frequentemente para\n",
        "  medir a semelhança entre dois vetores. O resultado varia de -1 a 1, onde 1\n",
        "  indica vetores idênticos, 0 indica ortogonalidade, e -1 indica vetores\n",
        "  diametralmente opostos.\n",
        "\n",
        "  Args:\n",
        "    a: Uma lista de valores numéricos representando o primeiro vetor.\n",
        "    b: Uma lista de valores numéricos representando o segundo vetor.\n",
        "\n",
        "  Returns:\n",
        "    Um float representando a similaridade de cosseno entre os vetores `a` e `b`.\n",
        "\n",
        "  Raises:\n",
        "    ValueError: Se os vetores `a` e `b` têm dimensões diferentes.\n",
        "  \"\"\"\n",
        "  if len(a) != len(b):\n",
        "    raise ValueError(\"Os vetores 'a' e 'b' devem ter a mesma dimensão.\")\n",
        "\n",
        "  numerador = sum(x * y for x, y in zip(a, b))\n",
        "  denominador = norma_vetor(a) * norma_vetor(b)\n",
        "\n",
        "  return numerador / float(denominador)"
      ],
      "execution_count": 25,
      "outputs": []
    },
    {
      "cell_type": "code",
      "source": [
        "similaridade = similaridade_cosseno(frequencias.toarray()[0], frequencias.toarray()[1])\n",
        "print(formata_msg(\"INFO\",f\"\\nSimilaridade de Cosseno: {similaridade}\"))"
      ],
      "metadata": {
        "id": "tNNVpzVGg0ai",
        "outputId": "c5469656-7f53-4926-8fa1-5bffaf90e04b",
        "colab": {
          "base_uri": "https://localhost:8080/"
        }
      },
      "execution_count": 26,
      "outputs": [
        {
          "output_type": "stream",
          "name": "stdout",
          "text": [
            "[INFO] 2025-08-04 - \n",
            "Similaridade de Cosseno: 0.8660508083140878\n"
          ]
        }
      ]
    }
  ]
}