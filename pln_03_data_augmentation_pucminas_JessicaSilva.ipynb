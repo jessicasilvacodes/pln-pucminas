{
  "nbformat": 4,
  "nbformat_minor": 0,
  "metadata": {
    "colab": {
      "provenance": [],
      "include_colab_link": true
    },
    "kernelspec": {
      "name": "python3",
      "display_name": "Python 3"
    },
    "language_info": {
      "name": "python"
    }
  },
  "cells": [
    {
      "cell_type": "markdown",
      "metadata": {
        "id": "view-in-github",
        "colab_type": "text"
      },
      "source": [
        "<a href=\"https://colab.research.google.com/github/jessicasilvacodes/pln-pucminas/blob/main/pln_03_data_augmentation_pucminas_JessicaSilva.ipynb\" target=\"_parent\"><img src=\"https://colab.research.google.com/assets/colab-badge.svg\" alt=\"Open In Colab\"/></a>"
      ]
    },
    {
      "cell_type": "markdown",
      "source": [
        "# **Aquisição de dados com enriquecimento de dados** - Data Augmentation"
      ],
      "metadata": {
        "id": "R3tUTgb_kpwv"
      }
    },
    {
      "cell_type": "markdown",
      "source": [
        "Data Augmentation, ou Enriquecimento de Dados, é uma técnica utilizada para aumentar artificialmente o conjunto de dados de treinamento em aprendizado de máquina, especialmente quando se lida com conjuntos de dados pequenos ou desbalanceados. Em vez de coletar mais dados, o aumento de dados envolve a criação de novas amostras a partir dos dados existentes, através de transformações como rotações, cortes, mudanças de cor, substituição de sinônimos, inserção de palavras, tradução reversa, remoção de palavras, etc."
      ],
      "metadata": {
        "id": "HnpzbvI7vtQT"
      }
    },
    {
      "cell_type": "markdown",
      "source": [
        "Motivação:\n",
        "- conjuntos de dados limitados\n",
        "- melhoria da generalização do modelo\n",
        "- balanceamento de dados\n",
        "- robustez a ruídos e erros\n",
        "- adaptação a diferentes dialetos\n",
        "- teste e avaliação de modelos"
      ],
      "metadata": {
        "id": "oOyC0zM5wFWh"
      }
    },
    {
      "cell_type": "markdown",
      "source": [
        "**NLPaug** é a biblioteca Python usada para aumentar dados de texto."
      ],
      "metadata": {
        "id": "Kw5-03JKw6_S"
      }
    },
    {
      "cell_type": "code",
      "source": [
        "# Instala pacotes para enriquecimento e análise de dados.\n",
        "!pip install matplotlib\n",
        "!pip install nlpaug\n",
        "!pip install numpy\n",
        "!pip install pandas\n",
        "!pip install requests\n",
        "!pip install scikit-learn\n",
        "!pip install seaborn\n",
        "!pip install tqdm"
      ],
      "metadata": {
        "id": "NB3Mmh26EKbn",
        "colab": {
          "base_uri": "https://localhost:8080/"
        },
        "outputId": "705533fe-3f75-4973-919e-1ce1ee35f7d8"
      },
      "execution_count": 23,
      "outputs": [
        {
          "output_type": "stream",
          "name": "stdout",
          "text": [
            "Requirement already satisfied: matplotlib in /usr/local/lib/python3.11/dist-packages (3.10.0)\n",
            "Requirement already satisfied: contourpy>=1.0.1 in /usr/local/lib/python3.11/dist-packages (from matplotlib) (1.3.2)\n",
            "Requirement already satisfied: cycler>=0.10 in /usr/local/lib/python3.11/dist-packages (from matplotlib) (0.12.1)\n",
            "Requirement already satisfied: fonttools>=4.22.0 in /usr/local/lib/python3.11/dist-packages (from matplotlib) (4.59.0)\n",
            "Requirement already satisfied: kiwisolver>=1.3.1 in /usr/local/lib/python3.11/dist-packages (from matplotlib) (1.4.8)\n",
            "Requirement already satisfied: numpy>=1.23 in /usr/local/lib/python3.11/dist-packages (from matplotlib) (2.0.2)\n",
            "Requirement already satisfied: packaging>=20.0 in /usr/local/lib/python3.11/dist-packages (from matplotlib) (25.0)\n",
            "Requirement already satisfied: pillow>=8 in /usr/local/lib/python3.11/dist-packages (from matplotlib) (11.3.0)\n",
            "Requirement already satisfied: pyparsing>=2.3.1 in /usr/local/lib/python3.11/dist-packages (from matplotlib) (3.2.3)\n",
            "Requirement already satisfied: python-dateutil>=2.7 in /usr/local/lib/python3.11/dist-packages (from matplotlib) (2.9.0.post0)\n",
            "Requirement already satisfied: six>=1.5 in /usr/local/lib/python3.11/dist-packages (from python-dateutil>=2.7->matplotlib) (1.17.0)\n",
            "Requirement already satisfied: nlpaug in /usr/local/lib/python3.11/dist-packages (1.1.11)\n",
            "Requirement already satisfied: numpy>=1.16.2 in /usr/local/lib/python3.11/dist-packages (from nlpaug) (2.0.2)\n",
            "Requirement already satisfied: pandas>=1.2.0 in /usr/local/lib/python3.11/dist-packages (from nlpaug) (2.2.2)\n",
            "Requirement already satisfied: requests>=2.22.0 in /usr/local/lib/python3.11/dist-packages (from nlpaug) (2.32.3)\n",
            "Requirement already satisfied: gdown>=4.0.0 in /usr/local/lib/python3.11/dist-packages (from nlpaug) (5.2.0)\n",
            "Requirement already satisfied: beautifulsoup4 in /usr/local/lib/python3.11/dist-packages (from gdown>=4.0.0->nlpaug) (4.13.4)\n",
            "Requirement already satisfied: filelock in /usr/local/lib/python3.11/dist-packages (from gdown>=4.0.0->nlpaug) (3.18.0)\n",
            "Requirement already satisfied: tqdm in /usr/local/lib/python3.11/dist-packages (from gdown>=4.0.0->nlpaug) (4.67.1)\n",
            "Requirement already satisfied: python-dateutil>=2.8.2 in /usr/local/lib/python3.11/dist-packages (from pandas>=1.2.0->nlpaug) (2.9.0.post0)\n",
            "Requirement already satisfied: pytz>=2020.1 in /usr/local/lib/python3.11/dist-packages (from pandas>=1.2.0->nlpaug) (2025.2)\n",
            "Requirement already satisfied: tzdata>=2022.7 in /usr/local/lib/python3.11/dist-packages (from pandas>=1.2.0->nlpaug) (2025.2)\n",
            "Requirement already satisfied: charset-normalizer<4,>=2 in /usr/local/lib/python3.11/dist-packages (from requests>=2.22.0->nlpaug) (3.4.2)\n",
            "Requirement already satisfied: idna<4,>=2.5 in /usr/local/lib/python3.11/dist-packages (from requests>=2.22.0->nlpaug) (3.10)\n",
            "Requirement already satisfied: urllib3<3,>=1.21.1 in /usr/local/lib/python3.11/dist-packages (from requests>=2.22.0->nlpaug) (2.5.0)\n",
            "Requirement already satisfied: certifi>=2017.4.17 in /usr/local/lib/python3.11/dist-packages (from requests>=2.22.0->nlpaug) (2025.7.14)\n",
            "Requirement already satisfied: six>=1.5 in /usr/local/lib/python3.11/dist-packages (from python-dateutil>=2.8.2->pandas>=1.2.0->nlpaug) (1.17.0)\n",
            "Requirement already satisfied: soupsieve>1.2 in /usr/local/lib/python3.11/dist-packages (from beautifulsoup4->gdown>=4.0.0->nlpaug) (2.7)\n",
            "Requirement already satisfied: typing-extensions>=4.0.0 in /usr/local/lib/python3.11/dist-packages (from beautifulsoup4->gdown>=4.0.0->nlpaug) (4.14.1)\n",
            "Requirement already satisfied: PySocks!=1.5.7,>=1.5.6 in /usr/local/lib/python3.11/dist-packages (from requests[socks]->gdown>=4.0.0->nlpaug) (1.7.1)\n",
            "Requirement already satisfied: numpy in /usr/local/lib/python3.11/dist-packages (2.0.2)\n",
            "Requirement already satisfied: pandas in /usr/local/lib/python3.11/dist-packages (2.2.2)\n",
            "Requirement already satisfied: numpy>=1.23.2 in /usr/local/lib/python3.11/dist-packages (from pandas) (2.0.2)\n",
            "Requirement already satisfied: python-dateutil>=2.8.2 in /usr/local/lib/python3.11/dist-packages (from pandas) (2.9.0.post0)\n",
            "Requirement already satisfied: pytz>=2020.1 in /usr/local/lib/python3.11/dist-packages (from pandas) (2025.2)\n",
            "Requirement already satisfied: tzdata>=2022.7 in /usr/local/lib/python3.11/dist-packages (from pandas) (2025.2)\n",
            "Requirement already satisfied: six>=1.5 in /usr/local/lib/python3.11/dist-packages (from python-dateutil>=2.8.2->pandas) (1.17.0)\n",
            "Requirement already satisfied: requests in /usr/local/lib/python3.11/dist-packages (2.32.3)\n",
            "Requirement already satisfied: charset-normalizer<4,>=2 in /usr/local/lib/python3.11/dist-packages (from requests) (3.4.2)\n",
            "Requirement already satisfied: idna<4,>=2.5 in /usr/local/lib/python3.11/dist-packages (from requests) (3.10)\n",
            "Requirement already satisfied: urllib3<3,>=1.21.1 in /usr/local/lib/python3.11/dist-packages (from requests) (2.5.0)\n",
            "Requirement already satisfied: certifi>=2017.4.17 in /usr/local/lib/python3.11/dist-packages (from requests) (2025.7.14)\n",
            "Requirement already satisfied: scikit-learn in /usr/local/lib/python3.11/dist-packages (1.6.1)\n",
            "Requirement already satisfied: numpy>=1.19.5 in /usr/local/lib/python3.11/dist-packages (from scikit-learn) (2.0.2)\n",
            "Requirement already satisfied: scipy>=1.6.0 in /usr/local/lib/python3.11/dist-packages (from scikit-learn) (1.16.0)\n",
            "Requirement already satisfied: joblib>=1.2.0 in /usr/local/lib/python3.11/dist-packages (from scikit-learn) (1.5.1)\n",
            "Requirement already satisfied: threadpoolctl>=3.1.0 in /usr/local/lib/python3.11/dist-packages (from scikit-learn) (3.6.0)\n",
            "Requirement already satisfied: seaborn in /usr/local/lib/python3.11/dist-packages (0.13.2)\n",
            "Requirement already satisfied: numpy!=1.24.0,>=1.20 in /usr/local/lib/python3.11/dist-packages (from seaborn) (2.0.2)\n",
            "Requirement already satisfied: pandas>=1.2 in /usr/local/lib/python3.11/dist-packages (from seaborn) (2.2.2)\n",
            "Requirement already satisfied: matplotlib!=3.6.1,>=3.4 in /usr/local/lib/python3.11/dist-packages (from seaborn) (3.10.0)\n",
            "Requirement already satisfied: contourpy>=1.0.1 in /usr/local/lib/python3.11/dist-packages (from matplotlib!=3.6.1,>=3.4->seaborn) (1.3.2)\n",
            "Requirement already satisfied: cycler>=0.10 in /usr/local/lib/python3.11/dist-packages (from matplotlib!=3.6.1,>=3.4->seaborn) (0.12.1)\n",
            "Requirement already satisfied: fonttools>=4.22.0 in /usr/local/lib/python3.11/dist-packages (from matplotlib!=3.6.1,>=3.4->seaborn) (4.59.0)\n",
            "Requirement already satisfied: kiwisolver>=1.3.1 in /usr/local/lib/python3.11/dist-packages (from matplotlib!=3.6.1,>=3.4->seaborn) (1.4.8)\n",
            "Requirement already satisfied: packaging>=20.0 in /usr/local/lib/python3.11/dist-packages (from matplotlib!=3.6.1,>=3.4->seaborn) (25.0)\n",
            "Requirement already satisfied: pillow>=8 in /usr/local/lib/python3.11/dist-packages (from matplotlib!=3.6.1,>=3.4->seaborn) (11.3.0)\n",
            "Requirement already satisfied: pyparsing>=2.3.1 in /usr/local/lib/python3.11/dist-packages (from matplotlib!=3.6.1,>=3.4->seaborn) (3.2.3)\n",
            "Requirement already satisfied: python-dateutil>=2.7 in /usr/local/lib/python3.11/dist-packages (from matplotlib!=3.6.1,>=3.4->seaborn) (2.9.0.post0)\n",
            "Requirement already satisfied: pytz>=2020.1 in /usr/local/lib/python3.11/dist-packages (from pandas>=1.2->seaborn) (2025.2)\n",
            "Requirement already satisfied: tzdata>=2022.7 in /usr/local/lib/python3.11/dist-packages (from pandas>=1.2->seaborn) (2025.2)\n",
            "Requirement already satisfied: six>=1.5 in /usr/local/lib/python3.11/dist-packages (from python-dateutil>=2.7->matplotlib!=3.6.1,>=3.4->seaborn) (1.17.0)\n",
            "Requirement already satisfied: tqdm in /usr/local/lib/python3.11/dist-packages (4.67.1)\n"
          ]
        }
      ]
    },
    {
      "cell_type": "code",
      "source": [
        "# Declara define funções utilitárias utilizadas no notebook.\n",
        "import datetime\n",
        "def formata_msg(nivel, msg, componente=None):\n",
        "    \"\"\"\n",
        "    Formata uma mensagem de log incluindo o nível de severidade, timestamp,\n",
        "    componente (opcional) e a mensagem.\n",
        "\n",
        "    Parâmetros:\n",
        "    - nivel (str): Nível de severidade da mensagem (ex: 'INFO', 'ERROR', 'WARNING').\n",
        "    - msg (str): A mensagem de log propriamente dita.\n",
        "    - componente (str, opcional): O componente ou módulo do sistema que gera a mensagem.\n",
        "\n",
        "    Retorna:\n",
        "    - str: A mensagem de log formatada.\n",
        "    \"\"\"\n",
        "    timestamp = datetime.datetime.now().strftime('%Y-%m-%d %H:%M:%S')\n",
        "    if componente:\n",
        "        return f\"[{nivel}] {timestamp} - {componente}: {msg}\"\n",
        "    else:\n",
        "        return f\"[{nivel}] {timestamp} - {msg}\"\n",
        "\n",
        "def plotar_distribuicao_polaridade(df):\n",
        "    \"\"\"\n",
        "    Função para plotar um gráfico de barras da contagem de valores para a coluna 'polarity'.\n",
        "\n",
        "    Parâmetros:\n",
        "    df (DataFrame): O DataFrame contendo a coluna 'polarity' a ser analisada.\n",
        "\n",
        "    Esta função utiliza a biblioteca seaborn para criar um gráfico de barras que\n",
        "    mostra a contagem de ocorrências para cada valor único na coluna 'polarity'.\n",
        "    Os rótulos dos eixos são removidos para uma apresentação mais limpa, e as bordas\n",
        "    esquerdas são também removidas.\n",
        "    \"\"\"\n",
        "\n",
        "    # Realiza a contagem de valores na coluna 'polarity' e armazena o resultado\n",
        "    polarity_counts = df['polarity'].value_counts()\n",
        "\n",
        "    # Cria o gráfico de barras usando seaborn, definindo os valores do eixo x e y\n",
        "    sns.barplot(x=polarity_counts.index, y=polarity_counts, hue=polarity_counts.index, legend=False)\n",
        "\n",
        "    # Configurações para remover rótulos e títulos desnecessários do gráfico\n",
        "    plt.yticks([], [])  # Remove os rótulos do eixo y para simplificar a visualização\n",
        "    plt.xlabel('')      # Limpa o título do eixo x para uma apresentação mais limpa\n",
        "    plt.ylabel('')      # Limpa o título do eixo y para uma apresentação mais limpa\n",
        "    sns.despine(left=True)  # Remove a borda esquerda do gráfico para um design mais minimalista\n",
        "\n",
        "    # Loop para adicionar rótulos de texto em cada barra do gráfico, melhorando a interpretabilidade\n",
        "    for container in plt.gca().containers:\n",
        "        plt.gca().bar_label(container)  # Adiciona rótulos nas barras com a contagem de cada 'polarity'\n",
        "\n",
        "print(formata_msg(\"INFO\", f\"Funções utilitárias foram declaradas, prontas para utilização.\"))"
      ],
      "metadata": {
        "id": "It4_ogcuPNuu",
        "colab": {
          "base_uri": "https://localhost:8080/"
        },
        "outputId": "c0424bd8-3a22-4069-93e6-ddd96caabeb4"
      },
      "execution_count": 24,
      "outputs": [
        {
          "output_type": "stream",
          "name": "stdout",
          "text": [
            "[INFO] 2025-07-30 19:34:46 - Funções utilitárias foram declaradas, prontas para utilização.\n"
          ]
        }
      ]
    },
    {
      "cell_type": "code",
      "source": [
        "# Importação da biblioteca padrão\n",
        "import os\n",
        "\n",
        "# Importação de bibliotecas de terceiros\n",
        "import matplotlib.pyplot as plt\n",
        "import nlpaug.augmenter.word as naw\n",
        "import numpy as np\n",
        "import pandas as pd\n",
        "import requests\n",
        "from sklearn.model_selection import train_test_split\n",
        "import seaborn as sns\n",
        "from tqdm import tqdm\n",
        "\n",
        "print(formata_msg(\"INFO\", \"Bibliotecas importadas com sucesso; ambiente pronto.\"))"
      ],
      "metadata": {
        "id": "8ueIJQz8n-h6",
        "colab": {
          "base_uri": "https://localhost:8080/"
        },
        "outputId": "931d7059-ee3f-4b1d-b4dc-1d4951e43626"
      },
      "execution_count": 25,
      "outputs": [
        {
          "output_type": "stream",
          "name": "stdout",
          "text": [
            "[INFO] 2025-07-30 19:34:46 - Bibliotecas importadas com sucesso; ambiente pronto.\n"
          ]
        }
      ]
    },
    {
      "cell_type": "code",
      "source": [
        "# Define o diretório local para armazenar as bases de dados públicas coletadas.\n",
        "corpora_caminho = \"./corpora\"\n",
        "\n",
        "# Verifica se o diretório especificado já existe no ambiente do Colab.\n",
        "if not os.path.exists(corpora_caminho):\n",
        "  # Caso o diretório não exista, cria um novo diretório com o nome 'corpora'.\n",
        "  # Isso é útil para organizar os arquivos de dados baixados ou gerados.\n",
        "  os.mkdir(corpora_caminho)\n",
        "\n",
        "print(formata_msg(\"INFO\", f\"Diretório {corpora_caminho} foi criado com sucesso.\"))"
      ],
      "metadata": {
        "id": "Ld0Thaj9nqzn",
        "colab": {
          "base_uri": "https://localhost:8080/"
        },
        "outputId": "df600333-131f-4e8f-a8c3-744f4a21a1d3"
      },
      "execution_count": 26,
      "outputs": [
        {
          "output_type": "stream",
          "name": "stdout",
          "text": [
            "[INFO] 2025-07-30 19:34:46 - Diretório ./corpora foi criado com sucesso.\n"
          ]
        }
      ]
    },
    {
      "cell_type": "markdown",
      "source": [
        "## Base de dados de comentários do Buscapé\n",
        "Buscapé é uma plataforma de comércio eletrônico brasileiro. O Buscapé funciona como um assistente de compras, para que os consumidores pesquisem produtos, preços, promoções e lojas.O Buscapé pertence à Mosaico Tecnologia ao Consumidor, que também é dona de outras plataformas de e-commerce."
      ],
      "metadata": {
        "id": "pzFkGfrRd65P"
      }
    },
    {
      "cell_type": "code",
      "source": [
        "# Define a URL da base pública armazenada no Github.\n",
        "url = \"https://raw.githubusercontent.com/gomesluiz/product-review-analytics/main/data/raw/buscape.csv\"\n",
        "\n",
        "# Configuração do arquivo para armazenamento da base de dados.\n",
        "buscape_arquivo = \"buscape-comentarios.csv\"\n",
        "\n",
        "# O método os.path.join cria o caminho completo para o arquivo, combinando\n",
        "# 'corpora_caminho' com o nome do arquivo.\n",
        "buscape_caminho = os.path.join(corpora_caminho, buscape_arquivo)\n",
        "\n",
        "# Define o formato do arquivo. Necessário para arquivos textos\n",
        "# armazenados no raw.githubusercontent.com.\n",
        "parametros = {\"downloadformat\": \"csv\"}\n",
        "\n",
        "# Executa o download do arquivo especificado na URL com os parâmetros\n",
        "# especificados\n",
        "resposta = requests.get(url, params=parametros)\n",
        "if resposta.status_code == 200:\n",
        "  # Se o status for igual a 200 (sucesso), grava o arquivo no caminho\n",
        "  # especificado\n",
        "  with open(buscape_caminho, \"wb\") as f:\n",
        "    f.write(resposta.content)\n",
        "  print(formata_msg(\"INFO\",f\"Download do arquivo {buscape_arquivo} concluído com sucesso!\"))\n",
        "else:\n",
        "  print(f\"Falha no download do arquivo {buscape_arquivo}:\", resposta.status_code)\n"
      ],
      "metadata": {
        "id": "woasdVNlm_gU",
        "colab": {
          "base_uri": "https://localhost:8080/"
        },
        "outputId": "a181cd37-c561-46eb-c40c-823edc350767"
      },
      "execution_count": 27,
      "outputs": [
        {
          "output_type": "stream",
          "name": "stdout",
          "text": [
            "[INFO] 2025-07-30 19:34:47 - Download do arquivo buscape-comentarios.csv concluído com sucesso!\n"
          ]
        }
      ]
    },
    {
      "cell_type": "code",
      "source": [
        "# O comando head do linux mostra as cinco primeiras linhas do arquivo gravado.\n",
        "!head -n 30 {buscape_caminho}"
      ],
      "metadata": {
        "id": "57kIS4iOsTM1",
        "colab": {
          "base_uri": "https://localhost:8080/"
        },
        "outputId": "32c7f58c-d98c-4067-f1f5-7168e58404dd"
      },
      "execution_count": 28,
      "outputs": [
        {
          "output_type": "stream",
          "name": "stdout",
          "text": [
            "original_index,review_text,review_text_processed,review_text_tokenized,polarity,rating,kfold_polarity,kfold_rating\r\n",
            "4_55516,\"Estou muito satisfeito, o visor é melhor do que eu imaginava, boas imagens, desing ultra fino. Pelo preço é um exelente aparelho.\n",
            "\n",
            "O que gostei: Desing exelente, display, custo beneficio.\n",
            "\n",
            "O que não gostei: Não tem como adicionar mais papeis de parede, bateria dura pouco.\",\"estou muito satisfeito, o visor e melhor do que eu imaginava, boas imagens, desing ultra fino. pelo preco e um exelente aparelho.\n",
            "\n",
            "o que gostei: desing exelente, display, custo beneficio.\n",
            "\n",
            "o que nao gostei: nao tem como adicionar mais papeis de parede, bateria dura pouco.\",\"['estou', 'muito', 'satisfeito', 'visor', 'melhor', 'do', 'que', 'eu', 'imaginava', 'boas', 'imagens', 'desing', 'ultra', 'fino', 'pelo', 'preco', 'um', 'exelente', 'aparelho', 'que', 'gostei', 'desing', 'exelente', 'display', 'custo', 'beneficio', 'que', 'nao', 'gostei', 'nao', 'tem', 'como', 'adicionar', 'mais', 'papeis', 'de', 'parede', 'bateria', 'dura', 'pouco']\",1.0,4,1,1\r\n",
            "minus_1_105339,\"\"\"muito boa\n",
            "\n",
            "O que gostei: preco\n",
            "\n",
            "O que não gostei: poderia ser 42\",\"\"\"muito boa\n",
            "\n",
            "o que gostei: preco\n",
            "\n",
            "o que nao gostei: poderia ser 42\",\"['muito', 'boa', 'que', 'gostei', 'preco', 'que', 'nao', 'gostei', 'poderia', 'ser', '42']\",1.0,5,1,1\r\n",
            "23_382139,\"Rápida, ótima qualidade de impressão e fácil de usar, principalmente no wi-fi.\n",
            "\n",
            "O que gostei: Produto exelente, rápida na impressão, imprime com qualidade de laser e ecônômica. Recomendo a todos\n",
            "\n",
            "O que não gostei: Nada que desabone\",\"rapida, otima qualidade de impressao e facil de usar, principalmente no wi-fi.\n",
            "\n",
            "o que gostei: produto exelente, rapida na impressao, imprime com qualidade de laser e economica. recomendo a todos\n",
            "\n",
            "o que nao gostei: nada que desabone\",\"['rapida', 'otima', 'qualidade', 'de', 'impressao', 'facil', 'de', 'usar', 'principalmente', 'no', 'wi', 'fi', 'que', 'gostei', 'produto', 'exelente', 'rapida', 'na', 'impressao', 'imprime', 'com', 'qualidade', 'de', 'laser', 'economica', 'recomendo', 'todos', 'que', 'nao', 'gostei', 'nada', 'que', 'desabone']\",1.0,5,1,1\r\n",
            "2_446456,Produto de ótima qualidade em todos os quesito!,produto de otima qualidade em todos os quesito!,\"['produto', 'de', 'otima', 'qualidade', 'em', 'todos', 'os', 'quesito']\",1.0,5,1,1\r\n",
            "0_11324,\"Precisava comprar uma tv compatível com meu dvd. Esra foi a que tinha o melhor custo benefício. Estou satisfeita com a minha compra.\n"
          ]
        }
      ]
    },
    {
      "cell_type": "code",
      "source": [
        "# Lista das colunas específicas para serem lidas do arquivo CSV.\n",
        "colunas_desejadas = ['review_text', 'polarity']\n",
        "\n",
        "# Carrega dados do CSV usando as colunas definidas.\n",
        "buscape_df = pd.read_csv(buscape_caminho, usecols=colunas_desejadas)\n",
        "\n",
        "# Mostra o número de linhas e colunas do dataFrame buscape_df.\n",
        "num_rows, num_cols = buscape_df.shape[0], buscape_df.shape[1]\n",
        "print(formata_msg(\"INFO\", f\"O dataset tem {num_rows} linnhas e {num_cols} colunas.\"))"
      ],
      "metadata": {
        "id": "JgPlAJr2S0Ct",
        "colab": {
          "base_uri": "https://localhost:8080/"
        },
        "outputId": "375cafdd-0028-4325-cd88-e8d32c7aeb77"
      },
      "execution_count": 29,
      "outputs": [
        {
          "output_type": "stream",
          "name": "stdout",
          "text": [
            "[INFO] 2025-07-30 19:34:49 - O dataset tem 84991 linnhas e 2 colunas.\n"
          ]
        }
      ]
    },
    {
      "cell_type": "code",
      "source": [
        "# Remove todas as linhas do DataFrame que contêm valores nulos.\n",
        "buscape_df.dropna(inplace=True)\n",
        "\n",
        "# Mostra o número de linhas e colunas do dataFrame buscape_df.\n",
        "num_rows, num_cols = buscape_df.shape[0], buscape_df.shape[1]\n",
        "print(formata_msg(\"INFO\", f\"O dataset tem {num_rows} linnhas e {num_cols} colunas.\"))"
      ],
      "metadata": {
        "id": "Epsn6SgI_BtU",
        "colab": {
          "base_uri": "https://localhost:8080/"
        },
        "outputId": "8c46f856-78d5-495a-fed4-f9a6cab1ee1b"
      },
      "execution_count": 30,
      "outputs": [
        {
          "output_type": "stream",
          "name": "stdout",
          "text": [
            "[INFO] 2025-07-30 19:34:49 - O dataset tem 73626 linnhas e 2 colunas.\n"
          ]
        }
      ]
    },
    {
      "cell_type": "code",
      "source": [
        "# Exibe as primeiras 5 linhas do DataFrame 'buscape_df' para uma rápida inspeção.\n",
        "buscape_df.head(10)"
      ],
      "metadata": {
        "id": "muIKeJ7gZq4F",
        "colab": {
          "base_uri": "https://localhost:8080/",
          "height": 363
        },
        "outputId": "d00c29b1-cc54-4e50-882d-39142ab47713"
      },
      "execution_count": 31,
      "outputs": [
        {
          "output_type": "execute_result",
          "data": {
            "text/plain": [
              "                                          review_text  polarity\n",
              "0   Estou muito satisfeito, o visor é melhor do qu...       1.0\n",
              "1   \"muito boa\\n\\nO que gostei: preco\\n\\nO que não...       1.0\n",
              "2   Rápida, ótima qualidade de impressão e fácil d...       1.0\n",
              "3     Produto de ótima qualidade em todos os quesito!       1.0\n",
              "4   Precisava comprar uma tv compatível com meu dv...       1.0\n",
              "5   eu adorei este secador é muito bom,potente e d...       1.0\n",
              "7   positiva\\n\\nO que gostei: cumpriu com as espec...       1.0\n",
              "8   Muito satisfeita com o telefone, atendeu as mi...       1.0\n",
              "9   Estou muito contente com a utlização da maquin...       1.0\n",
              "10  Excelente produto. Estou satisfeita com o resu...       1.0"
            ],
            "text/html": [
              "\n",
              "  <div id=\"df-720a507a-5968-486f-8ca5-5bf6e6a62727\" class=\"colab-df-container\">\n",
              "    <div>\n",
              "<style scoped>\n",
              "    .dataframe tbody tr th:only-of-type {\n",
              "        vertical-align: middle;\n",
              "    }\n",
              "\n",
              "    .dataframe tbody tr th {\n",
              "        vertical-align: top;\n",
              "    }\n",
              "\n",
              "    .dataframe thead th {\n",
              "        text-align: right;\n",
              "    }\n",
              "</style>\n",
              "<table border=\"1\" class=\"dataframe\">\n",
              "  <thead>\n",
              "    <tr style=\"text-align: right;\">\n",
              "      <th></th>\n",
              "      <th>review_text</th>\n",
              "      <th>polarity</th>\n",
              "    </tr>\n",
              "  </thead>\n",
              "  <tbody>\n",
              "    <tr>\n",
              "      <th>0</th>\n",
              "      <td>Estou muito satisfeito, o visor é melhor do qu...</td>\n",
              "      <td>1.0</td>\n",
              "    </tr>\n",
              "    <tr>\n",
              "      <th>1</th>\n",
              "      <td>\"muito boa\\n\\nO que gostei: preco\\n\\nO que não...</td>\n",
              "      <td>1.0</td>\n",
              "    </tr>\n",
              "    <tr>\n",
              "      <th>2</th>\n",
              "      <td>Rápida, ótima qualidade de impressão e fácil d...</td>\n",
              "      <td>1.0</td>\n",
              "    </tr>\n",
              "    <tr>\n",
              "      <th>3</th>\n",
              "      <td>Produto de ótima qualidade em todos os quesito!</td>\n",
              "      <td>1.0</td>\n",
              "    </tr>\n",
              "    <tr>\n",
              "      <th>4</th>\n",
              "      <td>Precisava comprar uma tv compatível com meu dv...</td>\n",
              "      <td>1.0</td>\n",
              "    </tr>\n",
              "    <tr>\n",
              "      <th>5</th>\n",
              "      <td>eu adorei este secador é muito bom,potente e d...</td>\n",
              "      <td>1.0</td>\n",
              "    </tr>\n",
              "    <tr>\n",
              "      <th>7</th>\n",
              "      <td>positiva\\n\\nO que gostei: cumpriu com as espec...</td>\n",
              "      <td>1.0</td>\n",
              "    </tr>\n",
              "    <tr>\n",
              "      <th>8</th>\n",
              "      <td>Muito satisfeita com o telefone, atendeu as mi...</td>\n",
              "      <td>1.0</td>\n",
              "    </tr>\n",
              "    <tr>\n",
              "      <th>9</th>\n",
              "      <td>Estou muito contente com a utlização da maquin...</td>\n",
              "      <td>1.0</td>\n",
              "    </tr>\n",
              "    <tr>\n",
              "      <th>10</th>\n",
              "      <td>Excelente produto. Estou satisfeita com o resu...</td>\n",
              "      <td>1.0</td>\n",
              "    </tr>\n",
              "  </tbody>\n",
              "</table>\n",
              "</div>\n",
              "    <div class=\"colab-df-buttons\">\n",
              "\n",
              "  <div class=\"colab-df-container\">\n",
              "    <button class=\"colab-df-convert\" onclick=\"convertToInteractive('df-720a507a-5968-486f-8ca5-5bf6e6a62727')\"\n",
              "            title=\"Convert this dataframe to an interactive table.\"\n",
              "            style=\"display:none;\">\n",
              "\n",
              "  <svg xmlns=\"http://www.w3.org/2000/svg\" height=\"24px\" viewBox=\"0 -960 960 960\">\n",
              "    <path d=\"M120-120v-720h720v720H120Zm60-500h600v-160H180v160Zm220 220h160v-160H400v160Zm0 220h160v-160H400v160ZM180-400h160v-160H180v160Zm440 0h160v-160H620v160ZM180-180h160v-160H180v160Zm440 0h160v-160H620v160Z\"/>\n",
              "  </svg>\n",
              "    </button>\n",
              "\n",
              "  <style>\n",
              "    .colab-df-container {\n",
              "      display:flex;\n",
              "      gap: 12px;\n",
              "    }\n",
              "\n",
              "    .colab-df-convert {\n",
              "      background-color: #E8F0FE;\n",
              "      border: none;\n",
              "      border-radius: 50%;\n",
              "      cursor: pointer;\n",
              "      display: none;\n",
              "      fill: #1967D2;\n",
              "      height: 32px;\n",
              "      padding: 0 0 0 0;\n",
              "      width: 32px;\n",
              "    }\n",
              "\n",
              "    .colab-df-convert:hover {\n",
              "      background-color: #E2EBFA;\n",
              "      box-shadow: 0px 1px 2px rgba(60, 64, 67, 0.3), 0px 1px 3px 1px rgba(60, 64, 67, 0.15);\n",
              "      fill: #174EA6;\n",
              "    }\n",
              "\n",
              "    .colab-df-buttons div {\n",
              "      margin-bottom: 4px;\n",
              "    }\n",
              "\n",
              "    [theme=dark] .colab-df-convert {\n",
              "      background-color: #3B4455;\n",
              "      fill: #D2E3FC;\n",
              "    }\n",
              "\n",
              "    [theme=dark] .colab-df-convert:hover {\n",
              "      background-color: #434B5C;\n",
              "      box-shadow: 0px 1px 3px 1px rgba(0, 0, 0, 0.15);\n",
              "      filter: drop-shadow(0px 1px 2px rgba(0, 0, 0, 0.3));\n",
              "      fill: #FFFFFF;\n",
              "    }\n",
              "  </style>\n",
              "\n",
              "    <script>\n",
              "      const buttonEl =\n",
              "        document.querySelector('#df-720a507a-5968-486f-8ca5-5bf6e6a62727 button.colab-df-convert');\n",
              "      buttonEl.style.display =\n",
              "        google.colab.kernel.accessAllowed ? 'block' : 'none';\n",
              "\n",
              "      async function convertToInteractive(key) {\n",
              "        const element = document.querySelector('#df-720a507a-5968-486f-8ca5-5bf6e6a62727');\n",
              "        const dataTable =\n",
              "          await google.colab.kernel.invokeFunction('convertToInteractive',\n",
              "                                                    [key], {});\n",
              "        if (!dataTable) return;\n",
              "\n",
              "        const docLinkHtml = 'Like what you see? Visit the ' +\n",
              "          '<a target=\"_blank\" href=https://colab.research.google.com/notebooks/data_table.ipynb>data table notebook</a>'\n",
              "          + ' to learn more about interactive tables.';\n",
              "        element.innerHTML = '';\n",
              "        dataTable['output_type'] = 'display_data';\n",
              "        await google.colab.output.renderOutput(dataTable, element);\n",
              "        const docLink = document.createElement('div');\n",
              "        docLink.innerHTML = docLinkHtml;\n",
              "        element.appendChild(docLink);\n",
              "      }\n",
              "    </script>\n",
              "  </div>\n",
              "\n",
              "\n",
              "    <div id=\"df-09671c09-f8c7-4ca4-91d8-0be0ba0ab285\">\n",
              "      <button class=\"colab-df-quickchart\" onclick=\"quickchart('df-09671c09-f8c7-4ca4-91d8-0be0ba0ab285')\"\n",
              "                title=\"Suggest charts\"\n",
              "                style=\"display:none;\">\n",
              "\n",
              "<svg xmlns=\"http://www.w3.org/2000/svg\" height=\"24px\"viewBox=\"0 0 24 24\"\n",
              "     width=\"24px\">\n",
              "    <g>\n",
              "        <path d=\"M19 3H5c-1.1 0-2 .9-2 2v14c0 1.1.9 2 2 2h14c1.1 0 2-.9 2-2V5c0-1.1-.9-2-2-2zM9 17H7v-7h2v7zm4 0h-2V7h2v10zm4 0h-2v-4h2v4z\"/>\n",
              "    </g>\n",
              "</svg>\n",
              "      </button>\n",
              "\n",
              "<style>\n",
              "  .colab-df-quickchart {\n",
              "      --bg-color: #E8F0FE;\n",
              "      --fill-color: #1967D2;\n",
              "      --hover-bg-color: #E2EBFA;\n",
              "      --hover-fill-color: #174EA6;\n",
              "      --disabled-fill-color: #AAA;\n",
              "      --disabled-bg-color: #DDD;\n",
              "  }\n",
              "\n",
              "  [theme=dark] .colab-df-quickchart {\n",
              "      --bg-color: #3B4455;\n",
              "      --fill-color: #D2E3FC;\n",
              "      --hover-bg-color: #434B5C;\n",
              "      --hover-fill-color: #FFFFFF;\n",
              "      --disabled-bg-color: #3B4455;\n",
              "      --disabled-fill-color: #666;\n",
              "  }\n",
              "\n",
              "  .colab-df-quickchart {\n",
              "    background-color: var(--bg-color);\n",
              "    border: none;\n",
              "    border-radius: 50%;\n",
              "    cursor: pointer;\n",
              "    display: none;\n",
              "    fill: var(--fill-color);\n",
              "    height: 32px;\n",
              "    padding: 0;\n",
              "    width: 32px;\n",
              "  }\n",
              "\n",
              "  .colab-df-quickchart:hover {\n",
              "    background-color: var(--hover-bg-color);\n",
              "    box-shadow: 0 1px 2px rgba(60, 64, 67, 0.3), 0 1px 3px 1px rgba(60, 64, 67, 0.15);\n",
              "    fill: var(--button-hover-fill-color);\n",
              "  }\n",
              "\n",
              "  .colab-df-quickchart-complete:disabled,\n",
              "  .colab-df-quickchart-complete:disabled:hover {\n",
              "    background-color: var(--disabled-bg-color);\n",
              "    fill: var(--disabled-fill-color);\n",
              "    box-shadow: none;\n",
              "  }\n",
              "\n",
              "  .colab-df-spinner {\n",
              "    border: 2px solid var(--fill-color);\n",
              "    border-color: transparent;\n",
              "    border-bottom-color: var(--fill-color);\n",
              "    animation:\n",
              "      spin 1s steps(1) infinite;\n",
              "  }\n",
              "\n",
              "  @keyframes spin {\n",
              "    0% {\n",
              "      border-color: transparent;\n",
              "      border-bottom-color: var(--fill-color);\n",
              "      border-left-color: var(--fill-color);\n",
              "    }\n",
              "    20% {\n",
              "      border-color: transparent;\n",
              "      border-left-color: var(--fill-color);\n",
              "      border-top-color: var(--fill-color);\n",
              "    }\n",
              "    30% {\n",
              "      border-color: transparent;\n",
              "      border-left-color: var(--fill-color);\n",
              "      border-top-color: var(--fill-color);\n",
              "      border-right-color: var(--fill-color);\n",
              "    }\n",
              "    40% {\n",
              "      border-color: transparent;\n",
              "      border-right-color: var(--fill-color);\n",
              "      border-top-color: var(--fill-color);\n",
              "    }\n",
              "    60% {\n",
              "      border-color: transparent;\n",
              "      border-right-color: var(--fill-color);\n",
              "    }\n",
              "    80% {\n",
              "      border-color: transparent;\n",
              "      border-right-color: var(--fill-color);\n",
              "      border-bottom-color: var(--fill-color);\n",
              "    }\n",
              "    90% {\n",
              "      border-color: transparent;\n",
              "      border-bottom-color: var(--fill-color);\n",
              "    }\n",
              "  }\n",
              "</style>\n",
              "\n",
              "      <script>\n",
              "        async function quickchart(key) {\n",
              "          const quickchartButtonEl =\n",
              "            document.querySelector('#' + key + ' button');\n",
              "          quickchartButtonEl.disabled = true;  // To prevent multiple clicks.\n",
              "          quickchartButtonEl.classList.add('colab-df-spinner');\n",
              "          try {\n",
              "            const charts = await google.colab.kernel.invokeFunction(\n",
              "                'suggestCharts', [key], {});\n",
              "          } catch (error) {\n",
              "            console.error('Error during call to suggestCharts:', error);\n",
              "          }\n",
              "          quickchartButtonEl.classList.remove('colab-df-spinner');\n",
              "          quickchartButtonEl.classList.add('colab-df-quickchart-complete');\n",
              "        }\n",
              "        (() => {\n",
              "          let quickchartButtonEl =\n",
              "            document.querySelector('#df-09671c09-f8c7-4ca4-91d8-0be0ba0ab285 button');\n",
              "          quickchartButtonEl.style.display =\n",
              "            google.colab.kernel.accessAllowed ? 'block' : 'none';\n",
              "        })();\n",
              "      </script>\n",
              "    </div>\n",
              "\n",
              "    </div>\n",
              "  </div>\n"
            ],
            "application/vnd.google.colaboratory.intrinsic+json": {
              "type": "dataframe",
              "variable_name": "buscape_df",
              "summary": "{\n  \"name\": \"buscape_df\",\n  \"rows\": 73626,\n  \"fields\": [\n    {\n      \"column\": \"review_text\",\n      \"properties\": {\n        \"dtype\": \"string\",\n        \"num_unique_values\": 67581,\n        \"samples\": [\n          \"Sinceramente foi uma das aventuras mais incr\\u00edveis que vivenciei em um video-game. O jogo te envolve de uma forma fant\\u00e1stica com trilha sonora de ponta e uma jogabilidade incr\\u00edvel! Imposs\\u00edvel n\\u00e3o se empolgar e at\\u00e9 ficar sem f\\u00f4lego em algumas partes! Para mim, o jogo do ano!\",\n          \"\\u00d3TIMO PARA ATIVIDADES ROTINEIRAS (OFFICE, INTERNET, FILMES, M\\u00daSICA). EM RELA\\u00c7\\u00c3O A JOGOS RODEI NA QUALIDADE M\\u00c1XIMA O EURO TRUCK E HALF-LIFE 2 - EPISODE 02 E N\\u00c3O DAVA QUASE NENHUM LAG E CARREGAMENTO R\\u00c1PIDO. BATERIA BOA, DURA AT\\u00c9 4 H NO MODO ECONOMICO QD ESTOU NA FACULDADE, SEM PRECISAR CONECTAR NA ENERGIA. POUCO BARULHO E O AQUECIMENTO \\u00c9 M\\u00cdNIMO TAMB\\u00c9M. ESTOU SATISFEITA E RECOMENDO.\",\n          \"Esse livro \\u00e9 muito bom, tem uma hist\\u00f3ria de amor linda te faz suspirar e at\\u00e9 mesmo chorar, a hist\\u00f3ria envolve e contagia, voc\\u00ea acaba se imaginando naquela situa\\u00e7\\u00e3o, ou seja, \\u00e9 um livro que mexe profundamente com o seu estado emocional.\\nVale muito a pena comprar!!!\"\n        ],\n        \"semantic_type\": \"\",\n        \"description\": \"\"\n      }\n    },\n    {\n      \"column\": \"polarity\",\n      \"properties\": {\n        \"dtype\": \"number\",\n        \"std\": 0.28972470887163343,\n        \"min\": 0.0,\n        \"max\": 1.0,\n        \"num_unique_values\": 2,\n        \"samples\": [\n          0.0,\n          1.0\n        ],\n        \"semantic_type\": \"\",\n        \"description\": \"\"\n      }\n    }\n  ]\n}"
            }
          },
          "metadata": {},
          "execution_count": 31
        }
      ]
    },
    {
      "cell_type": "markdown",
      "source": [
        "Garantindo que a polaridade seja um número inteiro:"
      ],
      "metadata": {
        "id": "Ilvjuz2Dy9fM"
      }
    },
    {
      "cell_type": "code",
      "source": [
        "# Converte os valores da coluna 'polarity' para string.\n",
        "buscape_df['polarity'] = buscape_df['polarity'].astype(int)\n",
        "\n",
        "# Exibe as primeiras 5 linhas do DataFrame 'buscape_df' para uma rápida inspeção.\n",
        "buscape_df.head(10)"
      ],
      "metadata": {
        "id": "dRYgtwasBHXl",
        "colab": {
          "base_uri": "https://localhost:8080/",
          "height": 363
        },
        "outputId": "9cfe5371-c4fd-48c1-9319-b1bb9d976f5c"
      },
      "execution_count": 32,
      "outputs": [
        {
          "output_type": "execute_result",
          "data": {
            "text/plain": [
              "                                          review_text  polarity\n",
              "0   Estou muito satisfeito, o visor é melhor do qu...         1\n",
              "1   \"muito boa\\n\\nO que gostei: preco\\n\\nO que não...         1\n",
              "2   Rápida, ótima qualidade de impressão e fácil d...         1\n",
              "3     Produto de ótima qualidade em todos os quesito!         1\n",
              "4   Precisava comprar uma tv compatível com meu dv...         1\n",
              "5   eu adorei este secador é muito bom,potente e d...         1\n",
              "7   positiva\\n\\nO que gostei: cumpriu com as espec...         1\n",
              "8   Muito satisfeita com o telefone, atendeu as mi...         1\n",
              "9   Estou muito contente com a utlização da maquin...         1\n",
              "10  Excelente produto. Estou satisfeita com o resu...         1"
            ],
            "text/html": [
              "\n",
              "  <div id=\"df-ab94b165-8e65-4bf4-b03f-37a705e9690d\" class=\"colab-df-container\">\n",
              "    <div>\n",
              "<style scoped>\n",
              "    .dataframe tbody tr th:only-of-type {\n",
              "        vertical-align: middle;\n",
              "    }\n",
              "\n",
              "    .dataframe tbody tr th {\n",
              "        vertical-align: top;\n",
              "    }\n",
              "\n",
              "    .dataframe thead th {\n",
              "        text-align: right;\n",
              "    }\n",
              "</style>\n",
              "<table border=\"1\" class=\"dataframe\">\n",
              "  <thead>\n",
              "    <tr style=\"text-align: right;\">\n",
              "      <th></th>\n",
              "      <th>review_text</th>\n",
              "      <th>polarity</th>\n",
              "    </tr>\n",
              "  </thead>\n",
              "  <tbody>\n",
              "    <tr>\n",
              "      <th>0</th>\n",
              "      <td>Estou muito satisfeito, o visor é melhor do qu...</td>\n",
              "      <td>1</td>\n",
              "    </tr>\n",
              "    <tr>\n",
              "      <th>1</th>\n",
              "      <td>\"muito boa\\n\\nO que gostei: preco\\n\\nO que não...</td>\n",
              "      <td>1</td>\n",
              "    </tr>\n",
              "    <tr>\n",
              "      <th>2</th>\n",
              "      <td>Rápida, ótima qualidade de impressão e fácil d...</td>\n",
              "      <td>1</td>\n",
              "    </tr>\n",
              "    <tr>\n",
              "      <th>3</th>\n",
              "      <td>Produto de ótima qualidade em todos os quesito!</td>\n",
              "      <td>1</td>\n",
              "    </tr>\n",
              "    <tr>\n",
              "      <th>4</th>\n",
              "      <td>Precisava comprar uma tv compatível com meu dv...</td>\n",
              "      <td>1</td>\n",
              "    </tr>\n",
              "    <tr>\n",
              "      <th>5</th>\n",
              "      <td>eu adorei este secador é muito bom,potente e d...</td>\n",
              "      <td>1</td>\n",
              "    </tr>\n",
              "    <tr>\n",
              "      <th>7</th>\n",
              "      <td>positiva\\n\\nO que gostei: cumpriu com as espec...</td>\n",
              "      <td>1</td>\n",
              "    </tr>\n",
              "    <tr>\n",
              "      <th>8</th>\n",
              "      <td>Muito satisfeita com o telefone, atendeu as mi...</td>\n",
              "      <td>1</td>\n",
              "    </tr>\n",
              "    <tr>\n",
              "      <th>9</th>\n",
              "      <td>Estou muito contente com a utlização da maquin...</td>\n",
              "      <td>1</td>\n",
              "    </tr>\n",
              "    <tr>\n",
              "      <th>10</th>\n",
              "      <td>Excelente produto. Estou satisfeita com o resu...</td>\n",
              "      <td>1</td>\n",
              "    </tr>\n",
              "  </tbody>\n",
              "</table>\n",
              "</div>\n",
              "    <div class=\"colab-df-buttons\">\n",
              "\n",
              "  <div class=\"colab-df-container\">\n",
              "    <button class=\"colab-df-convert\" onclick=\"convertToInteractive('df-ab94b165-8e65-4bf4-b03f-37a705e9690d')\"\n",
              "            title=\"Convert this dataframe to an interactive table.\"\n",
              "            style=\"display:none;\">\n",
              "\n",
              "  <svg xmlns=\"http://www.w3.org/2000/svg\" height=\"24px\" viewBox=\"0 -960 960 960\">\n",
              "    <path d=\"M120-120v-720h720v720H120Zm60-500h600v-160H180v160Zm220 220h160v-160H400v160Zm0 220h160v-160H400v160ZM180-400h160v-160H180v160Zm440 0h160v-160H620v160ZM180-180h160v-160H180v160Zm440 0h160v-160H620v160Z\"/>\n",
              "  </svg>\n",
              "    </button>\n",
              "\n",
              "  <style>\n",
              "    .colab-df-container {\n",
              "      display:flex;\n",
              "      gap: 12px;\n",
              "    }\n",
              "\n",
              "    .colab-df-convert {\n",
              "      background-color: #E8F0FE;\n",
              "      border: none;\n",
              "      border-radius: 50%;\n",
              "      cursor: pointer;\n",
              "      display: none;\n",
              "      fill: #1967D2;\n",
              "      height: 32px;\n",
              "      padding: 0 0 0 0;\n",
              "      width: 32px;\n",
              "    }\n",
              "\n",
              "    .colab-df-convert:hover {\n",
              "      background-color: #E2EBFA;\n",
              "      box-shadow: 0px 1px 2px rgba(60, 64, 67, 0.3), 0px 1px 3px 1px rgba(60, 64, 67, 0.15);\n",
              "      fill: #174EA6;\n",
              "    }\n",
              "\n",
              "    .colab-df-buttons div {\n",
              "      margin-bottom: 4px;\n",
              "    }\n",
              "\n",
              "    [theme=dark] .colab-df-convert {\n",
              "      background-color: #3B4455;\n",
              "      fill: #D2E3FC;\n",
              "    }\n",
              "\n",
              "    [theme=dark] .colab-df-convert:hover {\n",
              "      background-color: #434B5C;\n",
              "      box-shadow: 0px 1px 3px 1px rgba(0, 0, 0, 0.15);\n",
              "      filter: drop-shadow(0px 1px 2px rgba(0, 0, 0, 0.3));\n",
              "      fill: #FFFFFF;\n",
              "    }\n",
              "  </style>\n",
              "\n",
              "    <script>\n",
              "      const buttonEl =\n",
              "        document.querySelector('#df-ab94b165-8e65-4bf4-b03f-37a705e9690d button.colab-df-convert');\n",
              "      buttonEl.style.display =\n",
              "        google.colab.kernel.accessAllowed ? 'block' : 'none';\n",
              "\n",
              "      async function convertToInteractive(key) {\n",
              "        const element = document.querySelector('#df-ab94b165-8e65-4bf4-b03f-37a705e9690d');\n",
              "        const dataTable =\n",
              "          await google.colab.kernel.invokeFunction('convertToInteractive',\n",
              "                                                    [key], {});\n",
              "        if (!dataTable) return;\n",
              "\n",
              "        const docLinkHtml = 'Like what you see? Visit the ' +\n",
              "          '<a target=\"_blank\" href=https://colab.research.google.com/notebooks/data_table.ipynb>data table notebook</a>'\n",
              "          + ' to learn more about interactive tables.';\n",
              "        element.innerHTML = '';\n",
              "        dataTable['output_type'] = 'display_data';\n",
              "        await google.colab.output.renderOutput(dataTable, element);\n",
              "        const docLink = document.createElement('div');\n",
              "        docLink.innerHTML = docLinkHtml;\n",
              "        element.appendChild(docLink);\n",
              "      }\n",
              "    </script>\n",
              "  </div>\n",
              "\n",
              "\n",
              "    <div id=\"df-85eb2a23-c2da-4929-8f2a-9ae40c750b80\">\n",
              "      <button class=\"colab-df-quickchart\" onclick=\"quickchart('df-85eb2a23-c2da-4929-8f2a-9ae40c750b80')\"\n",
              "                title=\"Suggest charts\"\n",
              "                style=\"display:none;\">\n",
              "\n",
              "<svg xmlns=\"http://www.w3.org/2000/svg\" height=\"24px\"viewBox=\"0 0 24 24\"\n",
              "     width=\"24px\">\n",
              "    <g>\n",
              "        <path d=\"M19 3H5c-1.1 0-2 .9-2 2v14c0 1.1.9 2 2 2h14c1.1 0 2-.9 2-2V5c0-1.1-.9-2-2-2zM9 17H7v-7h2v7zm4 0h-2V7h2v10zm4 0h-2v-4h2v4z\"/>\n",
              "    </g>\n",
              "</svg>\n",
              "      </button>\n",
              "\n",
              "<style>\n",
              "  .colab-df-quickchart {\n",
              "      --bg-color: #E8F0FE;\n",
              "      --fill-color: #1967D2;\n",
              "      --hover-bg-color: #E2EBFA;\n",
              "      --hover-fill-color: #174EA6;\n",
              "      --disabled-fill-color: #AAA;\n",
              "      --disabled-bg-color: #DDD;\n",
              "  }\n",
              "\n",
              "  [theme=dark] .colab-df-quickchart {\n",
              "      --bg-color: #3B4455;\n",
              "      --fill-color: #D2E3FC;\n",
              "      --hover-bg-color: #434B5C;\n",
              "      --hover-fill-color: #FFFFFF;\n",
              "      --disabled-bg-color: #3B4455;\n",
              "      --disabled-fill-color: #666;\n",
              "  }\n",
              "\n",
              "  .colab-df-quickchart {\n",
              "    background-color: var(--bg-color);\n",
              "    border: none;\n",
              "    border-radius: 50%;\n",
              "    cursor: pointer;\n",
              "    display: none;\n",
              "    fill: var(--fill-color);\n",
              "    height: 32px;\n",
              "    padding: 0;\n",
              "    width: 32px;\n",
              "  }\n",
              "\n",
              "  .colab-df-quickchart:hover {\n",
              "    background-color: var(--hover-bg-color);\n",
              "    box-shadow: 0 1px 2px rgba(60, 64, 67, 0.3), 0 1px 3px 1px rgba(60, 64, 67, 0.15);\n",
              "    fill: var(--button-hover-fill-color);\n",
              "  }\n",
              "\n",
              "  .colab-df-quickchart-complete:disabled,\n",
              "  .colab-df-quickchart-complete:disabled:hover {\n",
              "    background-color: var(--disabled-bg-color);\n",
              "    fill: var(--disabled-fill-color);\n",
              "    box-shadow: none;\n",
              "  }\n",
              "\n",
              "  .colab-df-spinner {\n",
              "    border: 2px solid var(--fill-color);\n",
              "    border-color: transparent;\n",
              "    border-bottom-color: var(--fill-color);\n",
              "    animation:\n",
              "      spin 1s steps(1) infinite;\n",
              "  }\n",
              "\n",
              "  @keyframes spin {\n",
              "    0% {\n",
              "      border-color: transparent;\n",
              "      border-bottom-color: var(--fill-color);\n",
              "      border-left-color: var(--fill-color);\n",
              "    }\n",
              "    20% {\n",
              "      border-color: transparent;\n",
              "      border-left-color: var(--fill-color);\n",
              "      border-top-color: var(--fill-color);\n",
              "    }\n",
              "    30% {\n",
              "      border-color: transparent;\n",
              "      border-left-color: var(--fill-color);\n",
              "      border-top-color: var(--fill-color);\n",
              "      border-right-color: var(--fill-color);\n",
              "    }\n",
              "    40% {\n",
              "      border-color: transparent;\n",
              "      border-right-color: var(--fill-color);\n",
              "      border-top-color: var(--fill-color);\n",
              "    }\n",
              "    60% {\n",
              "      border-color: transparent;\n",
              "      border-right-color: var(--fill-color);\n",
              "    }\n",
              "    80% {\n",
              "      border-color: transparent;\n",
              "      border-right-color: var(--fill-color);\n",
              "      border-bottom-color: var(--fill-color);\n",
              "    }\n",
              "    90% {\n",
              "      border-color: transparent;\n",
              "      border-bottom-color: var(--fill-color);\n",
              "    }\n",
              "  }\n",
              "</style>\n",
              "\n",
              "      <script>\n",
              "        async function quickchart(key) {\n",
              "          const quickchartButtonEl =\n",
              "            document.querySelector('#' + key + ' button');\n",
              "          quickchartButtonEl.disabled = true;  // To prevent multiple clicks.\n",
              "          quickchartButtonEl.classList.add('colab-df-spinner');\n",
              "          try {\n",
              "            const charts = await google.colab.kernel.invokeFunction(\n",
              "                'suggestCharts', [key], {});\n",
              "          } catch (error) {\n",
              "            console.error('Error during call to suggestCharts:', error);\n",
              "          }\n",
              "          quickchartButtonEl.classList.remove('colab-df-spinner');\n",
              "          quickchartButtonEl.classList.add('colab-df-quickchart-complete');\n",
              "        }\n",
              "        (() => {\n",
              "          let quickchartButtonEl =\n",
              "            document.querySelector('#df-85eb2a23-c2da-4929-8f2a-9ae40c750b80 button');\n",
              "          quickchartButtonEl.style.display =\n",
              "            google.colab.kernel.accessAllowed ? 'block' : 'none';\n",
              "        })();\n",
              "      </script>\n",
              "    </div>\n",
              "\n",
              "    </div>\n",
              "  </div>\n"
            ],
            "application/vnd.google.colaboratory.intrinsic+json": {
              "type": "dataframe",
              "variable_name": "buscape_df",
              "summary": "{\n  \"name\": \"buscape_df\",\n  \"rows\": 73626,\n  \"fields\": [\n    {\n      \"column\": \"review_text\",\n      \"properties\": {\n        \"dtype\": \"string\",\n        \"num_unique_values\": 67581,\n        \"samples\": [\n          \"Sinceramente foi uma das aventuras mais incr\\u00edveis que vivenciei em um video-game. O jogo te envolve de uma forma fant\\u00e1stica com trilha sonora de ponta e uma jogabilidade incr\\u00edvel! Imposs\\u00edvel n\\u00e3o se empolgar e at\\u00e9 ficar sem f\\u00f4lego em algumas partes! Para mim, o jogo do ano!\",\n          \"\\u00d3TIMO PARA ATIVIDADES ROTINEIRAS (OFFICE, INTERNET, FILMES, M\\u00daSICA). EM RELA\\u00c7\\u00c3O A JOGOS RODEI NA QUALIDADE M\\u00c1XIMA O EURO TRUCK E HALF-LIFE 2 - EPISODE 02 E N\\u00c3O DAVA QUASE NENHUM LAG E CARREGAMENTO R\\u00c1PIDO. BATERIA BOA, DURA AT\\u00c9 4 H NO MODO ECONOMICO QD ESTOU NA FACULDADE, SEM PRECISAR CONECTAR NA ENERGIA. POUCO BARULHO E O AQUECIMENTO \\u00c9 M\\u00cdNIMO TAMB\\u00c9M. ESTOU SATISFEITA E RECOMENDO.\",\n          \"Esse livro \\u00e9 muito bom, tem uma hist\\u00f3ria de amor linda te faz suspirar e at\\u00e9 mesmo chorar, a hist\\u00f3ria envolve e contagia, voc\\u00ea acaba se imaginando naquela situa\\u00e7\\u00e3o, ou seja, \\u00e9 um livro que mexe profundamente com o seu estado emocional.\\nVale muito a pena comprar!!!\"\n        ],\n        \"semantic_type\": \"\",\n        \"description\": \"\"\n      }\n    },\n    {\n      \"column\": \"polarity\",\n      \"properties\": {\n        \"dtype\": \"number\",\n        \"std\": 0,\n        \"min\": 0,\n        \"max\": 1,\n        \"num_unique_values\": 2,\n        \"samples\": [\n          0,\n          1\n        ],\n        \"semantic_type\": \"\",\n        \"description\": \"\"\n      }\n    }\n  ]\n}"
            }
          },
          "metadata": {},
          "execution_count": 32
        }
      ]
    },
    {
      "cell_type": "markdown",
      "source": [
        "Quantidade de registros por polaridade:"
      ],
      "metadata": {
        "id": "P_X7xTBKy7aG"
      }
    },
    {
      "cell_type": "code",
      "source": [
        "# Plota um gráfico de barras as categorias de polaridade.\n",
        "plotar_distribuicao_polaridade(buscape_df)"
      ],
      "metadata": {
        "id": "GfLGVfDBDDS6",
        "colab": {
          "base_uri": "https://localhost:8080/",
          "height": 430
        },
        "outputId": "9873fe62-755b-4da7-8aaf-e667264fe781"
      },
      "execution_count": 33,
      "outputs": [
        {
          "output_type": "display_data",
          "data": {
            "text/plain": [
              "<Figure size 640x480 with 1 Axes>"
            ],
            "image/png": "[encoded data removed]"
          },
          "metadata": {}
        }
      ]
    },
    {
      "cell_type": "markdown",
      "source": [
        "Exemplo:"
      ],
      "metadata": {
        "id": "98rzIqejzDAp"
      }
    },
    {
      "cell_type": "code",
      "source": [
        "# Seleciona uma linha específica do dataFrame 'buscape_df' usando 'iloc' para\n",
        "# testes do enriquecimento de dados.\n",
        "texto = buscape_df.iloc[5]['review_text'].replace(\"\\n\", \" \")\n",
        "print(texto)"
      ],
      "metadata": {
        "id": "ojfvfHh2mo-X",
        "colab": {
          "base_uri": "https://localhost:8080/"
        },
        "outputId": "3200a09e-8626-4d73-da6b-e3acb1f0fea1"
      },
      "execution_count": 34,
      "outputs": [
        {
          "output_type": "stream",
          "name": "stdout",
          "text": [
            "eu adorei este secador é muito bom,potente e deixa meu cabelo lindo\n"
          ]
        }
      ]
    },
    {
      "cell_type": "markdown",
      "source": [
        "### Teste de enriquecimento de dados:"
      ],
      "metadata": {
        "id": "8pijEaklzIWX"
      }
    },
    {
      "cell_type": "code",
      "source": [
        "# Inicializando o augmentador com o modelo BERT em português\n",
        "# para inserir palavras contextualmente apropriadas\n",
        "enriquecedor = naw.ContextualWordEmbsAug(\n",
        "    model_path='neuralmind/bert-base-portuguese-cased', action=\"insert\")\n",
        "\n",
        "# Exibindo o texto original\n",
        "print(\"Texto original:\")\n",
        "print(texto)\n",
        "\n",
        "# Exibindo o texto enriquecido\n",
        "print(\"Texto enriquecido:\")\n",
        "for ii in range(5):\n",
        "    print(enriquecedor.augment(texto))\n"
      ],
      "metadata": {
        "id": "IGEcNpuNoM8V",
        "colab": {
          "base_uri": "https://localhost:8080/"
        },
        "outputId": "4014f292-4185-421a-a41e-d4f23d779f06"
      },
      "execution_count": 35,
      "outputs": [
        {
          "output_type": "stream",
          "name": "stdout",
          "text": [
            "Texto original:\n",
            "eu adorei este secador é muito bom,potente e deixa meu cabelo lindo\n",
            "Texto enriquecido:\n"
          ]
        },
        {
          "output_type": "stream",
          "name": "stderr",
          "text": [
            "/usr/local/lib/python3.11/dist-packages/torch/nn/modules/module.py:1750: FutureWarning: `encoder_attention_mask` is deprecated and will be removed in version 4.55.0 for `BertSdpaSelfAttention.forward`.\n",
            "  return forward_call(*args, **kwargs)\n"
          ]
        },
        {
          "output_type": "stream",
          "name": "stdout",
          "text": [
            "['eu gente adorei muito este óleo secador é muito bom, potente e ele deixa todo meu cabelo tudo lindo']\n",
            "['Ola eu adorei tanto este secador [UNK] é muito e bom, são potente e deixa [UNK] meu cabelo lindo']\n",
            "['eu adorei este secador que é algo muito bom, uso potente e ele deixa meu mini cabelo bem lindo']\n",
            "['eu sempre adorei mesmo este secador porque é muito bom, Ultra potente e deixa mega meu o cabelo lindo']\n",
            "['eu me adorei tudo este secador dele é muito bom, potente demais e deixa meu primeiro cabelo dela lindo']\n"
          ]
        }
      ]
    },
    {
      "cell_type": "markdown",
      "source": [
        "Divisão do conjunto de dados em treinamento (80%) e teste (20%):"
      ],
      "metadata": {
        "id": "NZ4x6E7SzZIB"
      }
    },
    {
      "cell_type": "code",
      "source": [
        "# Divisão do DataFrame 'buscape_df' em conjuntos de treino e teste.\n",
        "train, test = train_test_split(buscape_df, test_size=0.20, random_state=42)\n",
        "\n",
        "# plotar a distribuição de polaridade no conjunto de treino\n",
        "plotar_distribuicao_polaridade(train)"
      ],
      "metadata": {
        "id": "wxjneTYKnuLL",
        "colab": {
          "base_uri": "https://localhost:8080/",
          "height": 430
        },
        "outputId": "03fd19f4-bc67-42a6-ad5b-9610c2d21115"
      },
      "execution_count": 36,
      "outputs": [
        {
          "output_type": "display_data",
          "data": {
            "text/plain": [
              "<Figure size 640x480 with 1 Axes>"
            ],
            "image/png": "[encoded data removed]"
          },
          "metadata": {}
        }
      ]
    },
    {
      "cell_type": "markdown",
      "source": [
        "**Não podemos fazer o enriquecimento no conjunto de testes!!!**"
      ],
      "metadata": {
        "id": "sit1gRqzzkmb"
      }
    },
    {
      "cell_type": "markdown",
      "source": [
        "### Enriquecimento de dados:"
      ],
      "metadata": {
        "id": "iUChjQWMzQWh"
      }
    },
    {
      "cell_type": "code",
      "source": [
        "def enriquecer_texto(enriquecedor, df, classe, amostras=100, prob_aug=0.2):\n",
        "    \"\"\"\n",
        "    Enriquece textos de uma determinada classe em um DataFrame usando enriquecimento.\n",
        "\n",
        "    A função seleciona aleatoriamente um conjunto de textos da classe especificada\n",
        "    e aplica a augmentação para gerar novos textos. Esses textos são adicionados ao\n",
        "    DataFrame original, criando uma versão enriquecida do mesmo.\n",
        "\n",
        "    Args:\n",
        "        enriquecedor: Objeto utilizado para realizar a augmentação dos textos.\n",
        "        df (pd.DataFrame): DataFrame contendo os textos e suas respectivas classes.\n",
        "        classe (int/str): A classe dos textos que serão enriquecidos.\n",
        "        amostras (int, optional): Número de textos da classe especificada a serem enriquecidos.\n",
        "            Padrão é 100.\n",
        "        prob_aug (float, optional): Probabilidade de cada palavra ser augmentada.\n",
        "            Padrão é 0.2.\n",
        "\n",
        "    Returns:\n",
        "        pd.DataFrame: DataFrame original com os textos enriquecidos adicionados,\n",
        "        embaralhado de forma aleatória.\n",
        "    \"\"\"\n",
        "\n",
        "    # Define a probabilidade de augmentação para o enriquecedor\n",
        "    enriquecedor.aug_p = prob_aug\n",
        "\n",
        "    # Inicializa a lista para armazenar textos enriquecidos\n",
        "    textos_enriquecidos = []\n",
        "\n",
        "    # Filtra o DataFrame para obter apenas as entradas da classe especificada\n",
        "    df_minoritario = df[df.polarity == classe].reset_index(drop=True)\n",
        "\n",
        "    # Loop para enriquecer uma quantidade específica de amostras aleatórias\n",
        "    for i in tqdm(np.random.randint(0, len(df_minoritario), amostras)):\n",
        "        texto = df_minoritario.iloc[i]['review_text']\n",
        "        texto_enriquecido = enriquecedor.augment(texto)\n",
        "        textos_enriquecidos.append(texto_enriquecido)\n",
        "\n",
        "    # Cria um DataFrame com os textos enriquecidos e a classe-alvo\n",
        "    df_enriquecido = pd.DataFrame({'review_text': textos_enriquecidos, 'polarity': classe})\n",
        "\n",
        "    # Combina o DataFrame original com o DataFrame enriquecido e embaralha\n",
        "    df_resultante = pd.concat([df, df_enriquecido], ignore_index=True).sample(frac=1, random_state=42)\n",
        "\n",
        "    # Retorna o DataFrame resultante\n",
        "    return df_resultante\n",
        "\n",
        "print(formata_msg(\"INFO\", f\"Função de enriquecimento pronta para utilização.\"))\n"
      ],
      "metadata": {
        "id": "8akLoHA5U-Dt",
        "colab": {
          "base_uri": "https://localhost:8080/"
        },
        "outputId": "2bfeb076-acd9-495c-e733-6d3665440d13"
      },
      "execution_count": 37,
      "outputs": [
        {
          "output_type": "stream",
          "name": "stdout",
          "text": [
            "[INFO] 2025-07-30 19:35:00 - Função de enriquecimento pronta para utilização.\n"
          ]
        }
      ]
    },
    {
      "cell_type": "code",
      "source": [
        "# Enriquece o conjunto de treinamento. Esse procedimento não\n",
        "# ser aplicado somente no conjunto de testes. Esse\n",
        "# deve refletir dados do mundo real tão fielmente quanto possível.\n",
        "train_enrequecido = enriquecer_texto(enriquecedor, train, 0, amostras=10)\n",
        "print(formata_msg(\"INFO\", f\"Dataset de treinamento enriquecido.\"))"
      ],
      "metadata": {
        "id": "lJeVYGh9MMlg",
        "colab": {
          "base_uri": "https://localhost:8080/"
        },
        "outputId": "58249762-f303-4183-83ba-cde4f1a9337e"
      },
      "execution_count": 38,
      "outputs": [
        {
          "output_type": "stream",
          "name": "stderr",
          "text": [
            "\r  0%|          | 0/10 [00:00<?, ?it/s]/usr/local/lib/python3.11/dist-packages/torch/nn/modules/module.py:1750: FutureWarning: `encoder_attention_mask` is deprecated and will be removed in version 4.55.0 for `BertSdpaSelfAttention.forward`.\n",
            "  return forward_call(*args, **kwargs)\n",
            "100%|██████████| 10/10 [01:11<00:00,  7.20s/it]"
          ]
        },
        {
          "output_type": "stream",
          "name": "stdout",
          "text": [
            "[INFO] 2025-07-30 19:36:12 - Dataset de treinamento enriquecido.\n"
          ]
        },
        {
          "output_type": "stream",
          "name": "stderr",
          "text": [
            "\n"
          ]
        }
      ]
    },
    {
      "cell_type": "code",
      "source": [
        "# plotar a distribuição de polaridade no conjunto de treino\n",
        "# após o enriquecimento.\n",
        "plotar_distribuicao_polaridade(train_enrequecido)"
      ],
      "metadata": {
        "id": "g66dMY7IMny3",
        "colab": {
          "base_uri": "https://localhost:8080/",
          "height": 430
        },
        "outputId": "ae3179aa-6cd8-4689-81c7-d3a7c6256f0e"
      },
      "execution_count": 39,
      "outputs": [
        {
          "output_type": "display_data",
          "data": {
            "text/plain": [
              "<Figure size 640x480 with 1 Axes>"
            ],
            "image/png": "[encoded data removed]"
          },
          "metadata": {}
        }
      ]
    }
  ]
}