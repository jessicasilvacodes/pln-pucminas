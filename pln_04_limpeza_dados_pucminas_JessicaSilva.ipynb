{
  "nbformat": 4,
  "nbformat_minor": 0,
  "metadata": {
    "colab": {
      "provenance": [],
      "include_colab_link": true
    },
    "kernelspec": {
      "name": "python3",
      "display_name": "Python 3"
    },
    "language_info": {
      "name": "python"
    }
  },
  "cells": [
    {
      "cell_type": "markdown",
      "metadata": {
        "id": "view-in-github",
        "colab_type": "text"
      },
      "source": [
        "<a href=\"https://colab.research.google.com/github/jessicasilvacodes/pln-pucminas/blob/main/pln_04_limpeza_dados_pucminas_JessicaSilva.ipynb\" target=\"_parent\"><img src=\"https://colab.research.google.com/assets/colab-badge.svg\" alt=\"Open In Colab\"/></a>"
      ]
    },
    {
      "cell_type": "markdown",
      "source": [
        "## **Limpeza de Dados**"
      ],
      "metadata": {
        "id": "BIbf_odq0rVB"
      }
    },
    {
      "cell_type": "code",
      "execution_count": 26,
      "metadata": {
        "id": "SkOKv2Cjg0fe",
        "colab": {
          "base_uri": "https://localhost:8080/"
        },
        "outputId": "743b0954-0261-409e-d86c-e05f0de53107"
      },
      "outputs": [
        {
          "output_type": "stream",
          "name": "stdout",
          "text": [
            "Requirement already satisfied: beautifulsoup4 in /usr/local/lib/python3.11/dist-packages (4.13.4)\n",
            "Requirement already satisfied: pyspellchecker in /usr/local/lib/python3.11/dist-packages (0.8.3)\n",
            "Requirement already satisfied: soupsieve>1.2 in /usr/local/lib/python3.11/dist-packages (from beautifulsoup4) (2.7)\n",
            "Requirement already satisfied: typing-extensions>=4.0.0 in /usr/local/lib/python3.11/dist-packages (from beautifulsoup4) (4.14.1)\n"
          ]
        }
      ],
      "source": [
        "# Instalação de pacotes para raspagem e análise de dados.\n",
        "!pip install beautifulsoup4 pyspellchecker"
      ]
    },
    {
      "cell_type": "code",
      "source": [
        "# Declara define funções utilitárias utilizadas no notebook.\n",
        "import datetime\n",
        "import sys\n",
        "def formata_msg(nivel, msg):\n",
        "    \"\"\"\n",
        "    Formata uma mensagem de log incluindo o nível de severidade, timestamp\n",
        "    e a mensagem.\n",
        "\n",
        "    Parâmetros:\n",
        "    - nivel (str): Nível de severidade da mensagem (ex: 'INFO', 'ERROR', 'WARNING').\n",
        "    - msg (str): A mensagem de log propriamente dita.\n",
        "\n",
        "    Retorna:\n",
        "    - str: A mensagem de log formatada.\n",
        "    \"\"\"\n",
        "    timestamp = datetime.datetime.now().strftime('%Y-%m-%d')\n",
        "\n",
        "    return f\"[{nivel}] {timestamp} - {msg}\"\n",
        "\n",
        "print(formata_msg(\"INFO\", \"Funções utilitárias prontas para utilização.\"))\n",
        "print(formata_msg(\"INFO\", f\"Versão do Python: {sys.version} \"))"
      ],
      "metadata": {
        "id": "TEnpUAiSdLkp",
        "colab": {
          "base_uri": "https://localhost:8080/"
        },
        "outputId": "d9759eec-bc7f-418c-ef08-ee5bad817766"
      },
      "execution_count": 37,
      "outputs": [
        {
          "output_type": "stream",
          "name": "stdout",
          "text": [
            "[INFO] 2025-07-31 - Funções utilitárias prontas para utilização.\n",
            "[INFO] 2025-07-31 - Versão do Python: 3.11.13 (main, Jun  4 2025, 08:57:29) [GCC 11.4.0] \n"
          ]
        }
      ]
    },
    {
      "cell_type": "code",
      "source": [
        "# Importa módulos essenciais para funcionalidades do notebook.\n",
        "from bs4 import BeautifulSoup\n",
        "from spellchecker import SpellChecker\n",
        "\n",
        "print(formata_msg(\"INFO\", \"Bibliotecas importadas com sucesso; ambiente pronto para uso.\"))"
      ],
      "metadata": {
        "id": "Y4MSqiuliJNk",
        "colab": {
          "base_uri": "https://localhost:8080/"
        },
        "outputId": "8b184555-0139-4ca7-84fb-7af0fa212b41"
      },
      "execution_count": 38,
      "outputs": [
        {
          "output_type": "stream",
          "name": "stdout",
          "text": [
            "[INFO] 2025-07-31 - Bibliotecas importadas com sucesso; ambiente pronto para uso.\n"
          ]
        }
      ]
    },
    {
      "cell_type": "markdown",
      "source": [
        "# Remoção de **caracteres** não imprimíveis\n",
        "Caracteres não imprimíveis, ou caracteres de controle, são fundamentais na codificação de textos, servindo para organizar e controlar a apresentação de dados sem gerar símbolos visíveis. Eles incluem **espaços**, **tabulações ('\\t')**, **quebras de linha ('\\n')** e **retornos de carro ('\\r')**, entre outros, e são usados em dispositivos e softwares para estruturar textos, controlar fluxos de dados e delimitar strings."
      ],
      "metadata": {
        "id": "-be8iXybTHX3"
      }
    },
    {
      "cell_type": "code",
      "source": [
        "texto_exemplo = \"\"\"\n",
        "A marca do home imaturo😜 é\\t\\t querer morrer de maneira nobre por alguma causa🕊️,\\n\n",
        "enquanto\\n\\n a marca do\\r home maduo🤓 é querer viver de maneira humide por uma\\n\n",
        "causa☮️.\n",
        "\"\"\""
      ],
      "metadata": {
        "id": "Fb64rOJmsLH2"
      },
      "execution_count": 39,
      "outputs": []
    },
    {
      "cell_type": "code",
      "source": [
        "html_fragmento = f\"\"\"\n",
        "<div>\n",
        "    {texto_exemplo}\n",
        "</div>\n",
        "\"\"\""
      ],
      "metadata": {
        "id": "EC-RriSB1atM"
      },
      "execution_count": 40,
      "outputs": []
    },
    {
      "cell_type": "code",
      "source": [
        "soup = BeautifulSoup(html_fragmento, \"html.parser\")\n",
        "\n",
        "print(\"Texto original:\")\n",
        "texto_original = soup.get_text()\n",
        "print(f\"[{texto_original}]\")"
      ],
      "metadata": {
        "id": "mKFELcH6sWxn",
        "colab": {
          "base_uri": "https://localhost:8080/"
        },
        "outputId": "728ec193-1751-4119-f2f6-089c5069a249"
      },
      "execution_count": 41,
      "outputs": [
        {
          "output_type": "stream",
          "name": "stdout",
          "text": [
            "Texto original:\n",
            "[\n",
            "\n",
            "    \n",
            "A marca do home imaturo😜 é\t\t querer morrer de maneira nobre por alguma causa🕊️,\n",
            "\n",
            "enquanto\n",
            "\n",
            " a marca do\r home maduo🤓 é querer viver de maneira humide por uma\n",
            "\n",
            "causa☮️.\n",
            "\n",
            "\n",
            "]\n"
          ]
        }
      ]
    },
    {
      "cell_type": "code",
      "source": [
        "print(\"\\nTexto limpo:\")\n",
        "texto_limpo = ' '.join(texto_original.split())\n",
        "print(f\"[{texto_limpo}]\")"
      ],
      "metadata": {
        "colab": {
          "base_uri": "https://localhost:8080/"
        },
        "id": "IfgjPQGP1eBt",
        "outputId": "fe05b4f8-f592-4ead-f166-c9b7c81014cb"
      },
      "execution_count": 42,
      "outputs": [
        {
          "output_type": "stream",
          "name": "stdout",
          "text": [
            "\n",
            "Texto limpo:\n",
            "[A marca do home imaturo😜 é querer morrer de maneira nobre por alguma causa🕊️, enquanto a marca do home maduo🤓 é querer viver de maneira humide por uma causa☮️.]\n"
          ]
        }
      ]
    },
    {
      "cell_type": "markdown",
      "source": [
        "# Correção ortográfica\n",
        "A correção ortográfica **corrige erros de escrita**, melhorando a interpretação de textos. Essencial para análises precisas em tarefas como tradução, análise de sentimentos e assistentes virtuais, a correção ortográfica aumenta a eficácia da PLN ao garantir clareza e precisão na comunicação digital. Ela desempenha um papel fundamental na acessibilidade e na **qualidade das informações** processadas, facilitando interações mais naturais e compreensíveis entre humanos e máquinas."
      ],
      "metadata": {
        "id": "OfmdX_V4WQ_A"
      }
    },
    {
      "cell_type": "code",
      "source": [
        "corretor = SpellChecker(language='pt')\n",
        "\n",
        "# find those words that may be misspelled\n",
        "erros = corretor.unknown(['ingreso', 'bola', 'futbol', 'estádio'])\n",
        "\n",
        "for erro in erros:\n",
        "    # Get the one `most likely` answer\n",
        "    correcao = corretor.correction(erro)\n",
        "\n",
        "    # Get a list of `likely` options\n",
        "    candidatas = corretor.candidates(erro)\n",
        "\n",
        "    print(f\"Palavra incorreta: {erro}, correção:{correcao}, outras opções: {candidatas}\")"
      ],
      "metadata": {
        "id": "XUvLNPPAhI9I",
        "colab": {
          "base_uri": "https://localhost:8080/"
        },
        "outputId": "4c322733-078d-41f9-b583-b4b339e924c2"
      },
      "execution_count": 43,
      "outputs": [
        {
          "output_type": "stream",
          "name": "stdout",
          "text": [
            "Palavra incorreta: ingreso, correção:ingresso, outras opções: {'ingleso', 'ingresso'}\n",
            "Palavra incorreta: futbol, correção:futebol, outras opções: {'futebol'}\n"
          ]
        }
      ]
    },
    {
      "cell_type": "code",
      "source": [
        "def corrija_texto(texto):\n",
        "\n",
        "  corretor = SpellChecker(language=\"pt\")\n",
        "\n",
        "  texto_aux = texto[:]\n",
        "  erros = corretor.unknown(texto_aux.split(\" \"))\n",
        "\n",
        "  for erro in erros:\n",
        "    correcao = corretor.correction(erro)\n",
        "    if correcao:\n",
        "        texto_aux = texto_aux.replace(erro, correcao)\n",
        "\n",
        "  return texto_aux\n",
        "\n",
        "print(formata_msg(\"INFO\", \"Função de correção de texto pronta para utilização.\"))"
      ],
      "metadata": {
        "id": "aupJDldGYL3M",
        "colab": {
          "base_uri": "https://localhost:8080/"
        },
        "outputId": "6ae64d4f-bfa6-4632-e65b-f87019eeb8cb"
      },
      "execution_count": 44,
      "outputs": [
        {
          "output_type": "stream",
          "name": "stdout",
          "text": [
            "[INFO] 2025-07-31 - Função de correção de texto pronta para utilização.\n"
          ]
        }
      ]
    },
    {
      "cell_type": "code",
      "source": [
        "print(formata_msg(\"INFO\", \"Texto sem erros ortográficos:\"))\n",
        "print(corrija_texto(texto_limpo))"
      ],
      "metadata": {
        "id": "MJfVeNOXYuh1",
        "colab": {
          "base_uri": "https://localhost:8080/"
        },
        "outputId": "593247cc-ce38-47c2-cc0f-0c6a5473f35d"
      },
      "execution_count": 45,
      "outputs": [
        {
          "output_type": "stream",
          "name": "stdout",
          "text": [
            "[INFO] 2025-07-31 - Texto sem erros ortográficos:\n",
            "A marca do homem imaturo é querer morrer de maneira nobre por alguma causa🕊️, enquanto a marca do homem madura é querer viver de maneira humilde por uma causa☮️.\n"
          ]
        }
      ]
    },
    {
      "cell_type": "markdown",
      "source": [
        "# Normalização unicode\n",
        "\n",
        "A **normalização unicode** ou **codificação de texto** converte caracteres unicode em alguma forma de representação binária para ser armazenado em um computador."
      ],
      "metadata": {
        "id": "d98hzX75Wi7S"
      }
    },
    {
      "cell_type": "code",
      "source": [
        "texto = 'Eu amo pizza 🍕!  Vamos reservar uma viagem para 🚗 Giza?'\n",
        "\n",
        "print(\"Texto original:\")\n",
        "print(texto)\n",
        "\n",
        "print(\"\\nTexto normalizado:\")\n",
        "print(texto.encode(\"utf-8\"))"
      ],
      "metadata": {
        "id": "CYqjJr8wiCo-",
        "colab": {
          "base_uri": "https://localhost:8080/"
        },
        "outputId": "ec256f84-1359-4e42-83cc-ca90553051a3"
      },
      "execution_count": 46,
      "outputs": [
        {
          "output_type": "stream",
          "name": "stdout",
          "text": [
            "Texto original:\n",
            "Eu amo pizza 🍕!  Vamos reservar uma viagem para 🚗 Giza?\n",
            "\n",
            "Texto normalizado:\n",
            "b'Eu amo pizza \\xf0\\x9f\\x8d\\x95!  Vamos reservar uma viagem para \\xf0\\x9f\\x9a\\x97 Giza?'\n"
          ]
        }
      ]
    }
  ]
}